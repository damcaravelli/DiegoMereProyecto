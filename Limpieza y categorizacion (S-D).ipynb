{
 "cells": [
  {
   "cell_type": "markdown",
   "metadata": {},
   "source": [
    "### Librerias"
   ]
  },
  {
   "cell_type": "code",
   "execution_count": 1,
   "metadata": {},
   "outputs": [],
   "source": [
    "import pandas as pd\n",
    "import os\n",
    "import csv"
   ]
  },
  {
   "cell_type": "markdown",
   "metadata": {},
   "source": [
    "### Manipulacion de archivos"
   ]
  },
  {
   "cell_type": "markdown",
   "metadata": {},
   "source": [
    "#### Funcion para obtener los directorios de entrada y salida"
   ]
  },
  {
   "cell_type": "code",
   "execution_count": 2,
   "metadata": {},
   "outputs": [],
   "source": [
    "def obtener_directorios():\n",
    "    \"\"\"Solicita los directorios de entrada y salida al usuario.\"\"\"\n",
    "    directorio_entrada = input(\"Por favor, introduce el directorio de entrada (donde están los archivos Excel): \").strip('\\\"')\n",
    "    directorio_salida = input(\"Por favor, introduce el directorio de salida (donde se guardarán los archivos CSV): \").strip('\\\"')\n",
    "\n",
    "    # Normalizar las rutas para evitar problemas con \\ o /\n",
    "    directorio_entrada = os.path.normpath(directorio_entrada)\n",
    "    directorio_salida = os.path.normpath(directorio_salida)\n",
    "\n",
    "    return directorio_entrada, directorio_salida\n",
    "\n"
   ]
  },
  {
   "cell_type": "markdown",
   "metadata": {},
   "source": [
    "#### Funcion para extraer datos de los extractos en excel originales \n"
   ]
  },
  {
   "cell_type": "code",
   "execution_count": 3,
   "metadata": {},
   "outputs": [],
   "source": [
    "def procesar_excel(archivo_excel):\n",
    "    \"\"\"Procesa un archivo Excel y devuelve un DataFrame formateado.\"\"\"\n",
    "    # Leer el archivo Excel\n",
    "    df = pd.read_excel(archivo_excel)\n",
    "    df = df.drop([0, 1, 2])  # Elimina las primeras 3 filas\n",
    "    \n",
    "    # Usar la primera fila como nombres de las columnas\n",
    "    df.columns = df.iloc[0]\n",
    "    \n",
    "    # Eliminar la primera fila\n",
    "    df = df[1:]\n",
    "    \n",
    "    # Restablecer los índices\n",
    "    df.reset_index(drop=True, inplace=True)\n",
    "    \n",
    "    # Seleccionar las columnas deseadas\n",
    "    columnas_deseadas = ['F.Valor', 'Fecha', 'Concepto', 'Movimiento', 'Importe', 'Divisa', 'Disponible', 'Observaciones']\n",
    "    df = df[columnas_deseadas]\n",
    "    return df\n"
   ]
  },
  {
   "cell_type": "markdown",
   "metadata": {},
   "source": [
    "#### Funcion para converitir los df resultantes a CSV"
   ]
  },
  {
   "cell_type": "code",
   "execution_count": 4,
   "metadata": {},
   "outputs": [],
   "source": [
    "def guardar_como_csv(df, archivo_csv):\n",
    "    \"\"\"Guarda un DataFrame como un archivo CSV.\"\"\"\n",
    "    df.to_csv(archivo_csv, index=False)\n"
   ]
  },
  {
   "cell_type": "markdown",
   "metadata": {},
   "source": [
    "#### Funcion para extraer los documentos de excel del directorio original para guardarlos como CSV"
   ]
  },
  {
   "cell_type": "code",
   "execution_count": 5,
   "metadata": {},
   "outputs": [],
   "source": [
    "def convertir_archivos(directorio_entrada, directorio_salida):\n",
    "    \"\"\"Convierte los archivos Excel en CSV.\"\"\"\n",
    "    for archivo in os.listdir(directorio_entrada):\n",
    "        if archivo.endswith('.xlsx'):\n",
    "            archivo_excel = os.path.join(directorio_entrada, archivo)\n",
    "            archivo_csv = os.path.join(directorio_salida, archivo.replace('.xlsx', '.csv'))\n",
    "            \n",
    "            # Procesar el archivo Excel\n",
    "            df = procesar_excel(archivo_excel)\n",
    "            \n",
    "            # Guardar el DataFrame como CSV\n",
    "            guardar_como_csv(df, archivo_csv)\n",
    "    \n",
    "    print(\"Archivos convertidos y guardados en el directorio de salida.\")\n",
    "\n"
   ]
  },
  {
   "cell_type": "markdown",
   "metadata": {},
   "source": [
    "#### Conversion de .xlsx a CSV"
   ]
  },
  {
   "cell_type": "code",
   "execution_count": 6,
   "metadata": {},
   "outputs": [
    {
     "name": "stdout",
     "output_type": "stream",
     "text": [
      "Archivos convertidos y guardados en el directorio de salida.\n"
     ]
    }
   ],
   "source": [
    "# Ejecutar funciones necesarias\n",
    "entrada, salida = obtener_directorios()\n",
    "convertir_archivos(entrada, salida)"
   ]
  },
  {
   "cell_type": "markdown",
   "metadata": {},
   "source": [
    "#### Funcion para pedir el directorio donde se encuentran los csv para unirlos"
   ]
  },
  {
   "cell_type": "code",
   "execution_count": 7,
   "metadata": {},
   "outputs": [],
   "source": [
    "def obtener_directorio():\n",
    "    \"\"\"Solicita al usaurio el directorio donde están los archivos CSV.\"\"\"\n",
    "    directorio = input(\"Por favor, introduce el directorio donde se encuentran los archivos CSV: \").strip('\\\"')\n",
    "    return os.path.normpath(directorio)"
   ]
  },
  {
   "cell_type": "markdown",
   "metadata": {},
   "source": [
    "#### Leer todos los CSV del directorio"
   ]
  },
  {
   "cell_type": "code",
   "execution_count": 8,
   "metadata": {},
   "outputs": [],
   "source": [
    "def leer_archivos_csv(directorio):\n",
    "    \"\"\"Lee todos los archivos CSV de un directorio y los almacena en una lista de DataFrames.\"\"\"\n",
    "    dataframes = []\n",
    "    for archivo in os.listdir(directorio):\n",
    "        if archivo.endswith('.csv'):\n",
    "            archivo_csv = os.path.join(directorio, archivo)\n",
    "            df = pd.read_csv(archivo_csv)\n",
    "            dataframes.append(df)\n",
    "    return dataframes\n"
   ]
  },
  {
   "cell_type": "markdown",
   "metadata": {},
   "source": [
    "#### Combinar CSV en un solo dataframe"
   ]
  },
  {
   "cell_type": "code",
   "execution_count": 9,
   "metadata": {},
   "outputs": [],
   "source": [
    "def combinar_dataframes(dataframes):\n",
    "    \"\"\"Combina una lista de DataFrames en uno solo.\"\"\"\n",
    "    return pd.concat(dataframes, ignore_index=True)"
   ]
  },
  {
   "cell_type": "markdown",
   "metadata": {},
   "source": [
    "#### Guardar en un CSV final"
   ]
  },
  {
   "cell_type": "code",
   "execution_count": 10,
   "metadata": {},
   "outputs": [],
   "source": [
    "def guardar_csv(df, ruta_salida):\n",
    "    \"\"\"Guarda un DataFrame combinado como un archivo CSV.\"\"\"\n",
    "    df.to_csv(ruta_salida, index=False)\n",
    "    print(f\"Archivo combinado guardado en: {ruta_salida}\")\n"
   ]
  },
  {
   "cell_type": "markdown",
   "metadata": {},
   "source": [
    "#### Ejecutar funciones para convertir CSV en un CSV final para trabajr"
   ]
  },
  {
   "cell_type": "code",
   "execution_count": 11,
   "metadata": {},
   "outputs": [],
   "source": [
    "def procesar_archivos():\n",
    "   #Función principal para gestionar todo el fuljo del programa\n",
    "    directorio = obtener_directorio()\n",
    "    dataframes = leer_archivos_csv(directorio)\n",
    "    if not dataframes:\n",
    "        print(\"No se encontraron archivos CSV en el directorio especificado.\")\n",
    "        return\n",
    "    df_combinado = combinar_dataframes(dataframes)\n",
    "    ruta_salida = input(\"Por favor, introduce la ruta y el nombre para el archivo CSV combinado: \").strip('\\\"')\n",
    "    ruta_salida = os.path.normpath(ruta_salida)\n",
    "    guardar_csv(df_combinado, ruta_salida)\n"
   ]
  },
  {
   "cell_type": "markdown",
   "metadata": {},
   "source": [
    "#### Ejecutar"
   ]
  },
  {
   "cell_type": "code",
   "execution_count": 13,
   "metadata": {},
   "outputs": [
    {
     "name": "stdout",
     "output_type": "stream",
     "text": [
      "Archivo combinado guardado en: C:\\Users\\diego\\Desktop\\GitHub\\DiegoMere-Esp\\Entrega de Proyecto\\DocumentosUnidos.csv\n"
     ]
    }
   ],
   "source": [
    "procesar_archivos()"
   ]
  },
  {
   "cell_type": "markdown",
   "metadata": {},
   "source": [
    "### Limpieza Inicial de los datos"
   ]
  },
  {
   "cell_type": "code",
   "execution_count": 14,
   "metadata": {},
   "outputs": [],
   "source": [
    "df = pd.read_csv(r'C:\\Users\\diego\\Desktop\\GitHub\\DiegoMere-Esp\\Proyecto\\Entrega\\Entrega Final\\DocumentosUnidos.csv')"
   ]
  },
  {
   "cell_type": "markdown",
   "metadata": {},
   "source": [
    "#### Comprobacion y limpieza"
   ]
  },
  {
   "cell_type": "code",
   "execution_count": 15,
   "metadata": {},
   "outputs": [
    {
     "name": "stdout",
     "output_type": "stream",
     "text": [
      "<class 'pandas.core.frame.DataFrame'>\n",
      "RangeIndex: 5537 entries, 0 to 5536\n",
      "Data columns (total 9 columns):\n",
      " #   Column         Non-Null Count  Dtype  \n",
      "---  ------         --------------  -----  \n",
      " 0   F.Valor        5537 non-null   object \n",
      " 1   Fecha          5537 non-null   object \n",
      " 2   Concepto       5537 non-null   object \n",
      " 3   Movimiento     5463 non-null   object \n",
      " 4   Importe        5537 non-null   float64\n",
      " 5   Divisa         5537 non-null   object \n",
      " 6   Divisa.1       5537 non-null   object \n",
      " 7   Disponible     5537 non-null   float64\n",
      " 8   Observaciones  5537 non-null   object \n",
      "dtypes: float64(2), object(7)\n",
      "memory usage: 389.4+ KB\n"
     ]
    }
   ],
   "source": [
    "df.info()"
   ]
  },
  {
   "cell_type": "code",
   "execution_count": 16,
   "metadata": {},
   "outputs": [],
   "source": [
    "#Elimino la columna Divisa.1 y Fecha, que es la Fecha de cargo, no la fecha de ejecucion del movimiento \n",
    "df = df.drop(columns=['Divisa.1', 'Fecha'])"
   ]
  },
  {
   "cell_type": "code",
   "execution_count": 17,
   "metadata": {},
   "outputs": [],
   "source": [
    "#Renombro la columna F.Valor a Fecha\n",
    "df = df.rename(columns={'F.Valor': 'Fecha'})"
   ]
  },
  {
   "cell_type": "code",
   "execution_count": 18,
   "metadata": {},
   "outputs": [],
   "source": [
    "#Convierto la columna fecha a formato fecha\n",
    "df['Fecha'] = pd.to_datetime(df['Fecha'], format='%d/%m/%Y')"
   ]
  },
  {
   "cell_type": "markdown",
   "metadata": {},
   "source": [
    "#### Funciones para limpiar datos especificos"
   ]
  },
  {
   "cell_type": "code",
   "execution_count": 19,
   "metadata": {},
   "outputs": [],
   "source": [
    "def limpiar_datos_observaciones(df, numeros_a_eliminar):\n",
    "    for numero in numeros_a_eliminar:\n",
    "        df['Observaciones'] = df['Observaciones'].str.replace(numero, '', regex=False)\n",
    "    return df\n",
    "\n",
    "def limpiar_datos_movimiento(df, numeros_a_eliminar):\n",
    "    for numero in numeros_a_eliminar:\n",
    "        df['Movimiento'] = df['Movimiento'].str.replace(numero, '', regex=False)\n",
    "    return df\n",
    "\n",
    "def eliminar_cargos_automaticos(df, movimientos_a_eliminar, conceptos_a_eliminar):\n",
    "    for movimiento in movimientos_a_eliminar:\n",
    "        df = df[~df['Movimiento'].str.contains(movimiento, na=False)]\n",
    "    for concepto in conceptos_a_eliminar:\n",
    "        df = df[~df['Concepto'].str.contains(concepto, na=False)]\n",
    "    return df\n",
    "\n",
    "\n"
   ]
  },
  {
   "cell_type": "markdown",
   "metadata": {},
   "source": [
    "#### Datos especificos a ser limpiados"
   ]
  },
  {
   "cell_type": "code",
   "execution_count": null,
   "metadata": {},
   "outputs": [],
   "source": [
    "numeros_observaciones = ['''Datos a eliminar''']\n",
    "numeros_movimiento = ['''Datos a eliminar''']\n",
    "movimientos_a_eliminar = ['Trp redondeo tarjeta']\n",
    "conceptos_a_eliminar = ['mes cuentas claras', 'Comision mensual cuentas claras']"
   ]
  },
  {
   "cell_type": "code",
   "execution_count": 21,
   "metadata": {},
   "outputs": [],
   "source": [
    "# Aplicae las funciones:\n",
    "df = limpiar_datos_observaciones(df, numeros_observaciones)\n",
    "df = limpiar_datos_movimiento(df, numeros_movimiento)\n",
    "df = eliminar_cargos_automaticos(df, movimientos_a_eliminar, conceptos_a_eliminar)"
   ]
  },
  {
   "cell_type": "code",
   "execution_count": 22,
   "metadata": {},
   "outputs": [],
   "source": [
    "#Guardo el DF con la primera limpieza \n",
    "df.to_csv(r'C:\\Users\\diego\\Desktop\\GitHub\\DiegoMere-Esp\\Entrega de Proyecto\\CSV_Limpio.csv', index=False)"
   ]
  },
  {
   "cell_type": "markdown",
   "metadata": {},
   "source": [
    "### Categorizacion"
   ]
  },
  {
   "cell_type": "markdown",
   "metadata": {},
   "source": [
    "#### Funcion para asignar las categorias "
   ]
  },
  {
   "cell_type": "code",
   "execution_count": 23,
   "metadata": {},
   "outputs": [],
   "source": [
    "def categorizar_concepto(concepto, dic_cat):\n",
    "    \"\"\"\n",
    "    Recorre el diccionario de categorías buscando si alguna palabra clave está presente en el concepto.\n",
    "    Si se encuentra, retorna la categoría correspondiente; de lo contrario, retorna None\n",
    "    \"\"\"\n",
    "    for categoria, palabras in dic_cat.items():\n",
    "        for palabra in palabras:\n",
    "            if str(palabra) in str(concepto):  # Aseguramos que concepto sea string\n",
    "                return categoria\n",
    "    return None\n"
   ]
  },
  {
   "cell_type": "markdown",
   "metadata": {},
   "source": [
    "#### Funcion pra extraer el diccionario"
   ]
  },
  {
   "cell_type": "code",
   "execution_count": 24,
   "metadata": {},
   "outputs": [],
   "source": [
    "def cargar_diccionario(ruta_csv):\n",
    "   \n",
    "    df_dic = pd.read_csv(ruta_csv, header=None, encoding='latin8')\n",
    "    df_dic.rename(columns={0: 'Categoria', 1: 'Concepto'}, inplace=True)\n",
    "    # Agrupa por categoría y convierte los conceptos en una lista\n",
    "    diccionario = df_dic.groupby('Categoria')['Concepto'].apply(list).to_dict()\n",
    "    return diccionario\n"
   ]
  },
  {
   "cell_type": "markdown",
   "metadata": {},
   "source": [
    "#### Funcion para extraer CSV a categorizar "
   ]
  },
  {
   "cell_type": "code",
   "execution_count": 25,
   "metadata": {},
   "outputs": [],
   "source": [
    "def cargar_datos(ruta_csv):\n",
    "    df = pd.read_csv(ruta_csv)\n",
    "    # Aplica lower() a cada elemento de tipo string en todas las columnas\n",
    "    df = df.apply(lambda col: col.map(lambda x: x.lower() if isinstance(x, str) else x))\n",
    "    return df\n"
   ]
  },
  {
   "cell_type": "markdown",
   "metadata": {},
   "source": [
    "#### Funcion para aplicar las categorias"
   ]
  },
  {
   "cell_type": "code",
   "execution_count": 26,
   "metadata": {},
   "outputs": [],
   "source": [
    "def aplicar_categorizacion(df, dic_cat):\n",
    "   \n",
    "    df['Categoria'] = df['Concepto'].apply(lambda x: categorizar_concepto(x, dic_cat))\n",
    "    df['Categoria'] = df.apply(lambda row: 'ingresos' if row['Importe'] > 0 else row['Categoria'], axis=1)\n",
    "    return df\n"
   ]
  },
  {
   "cell_type": "markdown",
   "metadata": {},
   "source": [
    "#### Funcion que aplica una serie de \"reglas\" extra de categorizacion especificas para cada conjunto de datos"
   ]
  },
  {
   "cell_type": "code",
   "execution_count": 27,
   "metadata": {},
   "outputs": [],
   "source": [
    "def aplicar_correcciones(df, reglas):\n",
    "    \n",
    "    for patron, nueva_categoria in reglas.items():\n",
    "        df.loc[df[\"Observaciones\"].str.contains(patron, case=False, na=False), \"Categoria\"] = nueva_categoria\n",
    "    # Asegurarse de que las filas con importes positivos sean categorizadas como \"ingresos\"\n",
    "    df['Categoria'] = df.apply(lambda row: 'ingresos' if row['Importe'] > 0 else row['Categoria'], axis=1)\n",
    "    return df\n"
   ]
  },
  {
   "cell_type": "markdown",
   "metadata": {},
   "source": [
    "#### Funcion para actualizar el diccionario con categorias no registradas "
   ]
  },
  {
   "cell_type": "code",
   "execution_count": 28,
   "metadata": {},
   "outputs": [],
   "source": [
    "def actualizar_diccionario(dic_cat, conceptos, category_map):\n",
    "    \n",
    "    for concepto in conceptos:\n",
    "        print(\"Concepto sin categoría:\", concepto)\n",
    "        C = input(\"Ingrese el número de la categoría correspondiente: \")\n",
    "        if C in category_map:\n",
    "            dic_cat[category_map[C]].append(concepto)\n",
    "        else:\n",
    "            print(\"Categoría no válida. Inténtalo de nuevo.\")\n",
    "    return dic_cat\n"
   ]
  },
  {
   "cell_type": "markdown",
   "metadata": {},
   "source": [
    "#### Funcion que garda el CSV final con las categorias"
   ]
  },
  {
   "cell_type": "code",
   "execution_count": 29,
   "metadata": {},
   "outputs": [],
   "source": [
    "def guardar_csv(df, ruta_csv):\n",
    "    \n",
    "    df.to_csv(ruta_csv, index=False)\n"
   ]
  },
  {
   "cell_type": "markdown",
   "metadata": {},
   "source": [
    "#### Ejecucion de procesod de categorizacon"
   ]
  },
  {
   "cell_type": "code",
   "execution_count": 30,
   "metadata": {},
   "outputs": [],
   "source": [
    "# Definir rutas de los archivos\n",
    "ruta_diccionario = r\"C:\\Users\\diego\\Desktop\\GitHub\\DiegoMere-Esp\\Entrega de Proyecto\\DicCategorias.csv\"\n",
    "ruta_datos = r\"C:\\Users\\diego\\Desktop\\GitHub\\DiegoMere-Esp\\Entrega de Proyecto\\CSV_Limpio.csv\"\n",
    "ruta_salida = r\"C:\\Users\\diego\\Desktop\\GitHub\\DiegoMere-Esp\\Entrega de Proyecto\\ParaUsar.csv\"\n"
   ]
  },
  {
   "cell_type": "markdown",
   "metadata": {},
   "source": [
    "##### Paso 1: Cargar el diccionario de categorías"
   ]
  },
  {
   "cell_type": "code",
   "execution_count": 31,
   "metadata": {},
   "outputs": [
    {
     "name": "stdout",
     "output_type": "stream",
     "text": [
      "Diccionario de categorías cargado.\n"
     ]
    }
   ],
   "source": [
    "dic_cat = cargar_diccionario(ruta_diccionario)\n",
    "print(\"Diccionario de categorías cargado.\")"
   ]
  },
  {
   "cell_type": "markdown",
   "metadata": {},
   "source": [
    "##### Paso 2: Cargar los datos a categorizar"
   ]
  },
  {
   "cell_type": "code",
   "execution_count": 32,
   "metadata": {},
   "outputs": [
    {
     "name": "stdout",
     "output_type": "stream",
     "text": [
      "Datos cargados.\n"
     ]
    }
   ],
   "source": [
    "df = cargar_datos(ruta_datos)\n",
    "print(\"Datos cargados.\")"
   ]
  },
  {
   "cell_type": "markdown",
   "metadata": {},
   "source": [
    "#### Paso 3: Aplicar la categorización inicial"
   ]
  },
  {
   "cell_type": "code",
   "execution_count": 33,
   "metadata": {},
   "outputs": [
    {
     "name": "stdout",
     "output_type": "stream",
     "text": [
      "Categorización inicial aplicada.\n"
     ]
    }
   ],
   "source": [
    "df = aplicar_categorizacion(df, dic_cat)\n",
    "print(\"Categorización inicial aplicada.\")"
   ]
  },
  {
   "cell_type": "markdown",
   "metadata": {},
   "source": [
    "##### Paso 4: Definir las reglas de corrección "
   ]
  },
  {
   "cell_type": "code",
   "execution_count": null,
   "metadata": {},
   "outputs": [],
   "source": [
    "reglas = {\n",
    "    \"Observacion extra\": \"viajes\",\n",
    "    \"ahorro\": \"ahorro\",\n",
    "    \"diego antonio mere caravelli\": \"Correction\"\n",
    "}\n",
    "\n"
   ]
  },
  {
   "cell_type": "markdown",
   "metadata": {},
   "source": [
    "##### Paso 5: Aplicar correcciones basadas en las reglas definidas"
   ]
  },
  {
   "cell_type": "code",
   "execution_count": 35,
   "metadata": {},
   "outputs": [
    {
     "name": "stdout",
     "output_type": "stream",
     "text": [
      "Correcciones aplicadas.\n"
     ]
    }
   ],
   "source": [
    "df = aplicar_correcciones(df, reglas)\n",
    "print(\"Correcciones aplicadas.\")"
   ]
  },
  {
   "cell_type": "markdown",
   "metadata": {},
   "source": [
    "##### Paso 6: Actualizar el diccionario para conceptos no categorizados"
   ]
  },
  {
   "cell_type": "code",
   "execution_count": 142,
   "metadata": {},
   "outputs": [
    {
     "name": "stdout",
     "output_type": "stream",
     "text": [
      "Actualizando el diccionario con conceptos no categorizados:\n",
      "Concepto sin categoría: bam bam dner\n",
      "Concepto sin categoría: æam æam\n",
      "Concepto sin categoría: silûs cakes give me more\n",
      "Concepto sin categoría: trady´s avda marques de a\n",
      "Concepto sin categoría: park gell\n",
      "Concepto sin categoría: doña jacinta\n",
      "Concepto sin categoría: cafe-bar briãas\n",
      "Concepto sin categoría: luis vitaliano&luis españ\n",
      "Concepto sin categoría: aparcamiento easo\n",
      "Concepto sin categoría: operación financiada con tarjeta\n",
      "Concepto sin categoría: doæa jacinta\n"
     ]
    }
   ],
   "source": [
    "conceptos_no_categorizados = set(df[df['Categoria'].isnull()]['Concepto']) #Set de conceptos sin categoria asignada\n",
    "# Mapa de números a categorías para facilitar la entrada\n",
    "category_map = {\n",
    "    '1': 'comida_fuera',\n",
    "    '2': 'suscripcion',\n",
    "    '3': 'vivienda',\n",
    "    '4': 'ocio',\n",
    "    '5': 'transporte',\n",
    "    '6': 'impuestos',\n",
    "    '7': 'viajes',\n",
    "    '8': 'mascota',\n",
    "    '9': 'seguros',\n",
    "    '10': 'deporte',\n",
    "    '11': 'prestamo',\n",
    "    '12': 'compras',\n",
    "    '13': 'servicios',\n",
    "    '14': 'salud',\n",
    "    '15': 'tecnología',\n",
    "    '16': 'comida',\n",
    "    '17': 'bizum',\n",
    "    '18': 'amazon',\n",
    "    '19': 'otros'\n",
    "}\n",
    "if conceptos_no_categorizados:\n",
    "    print(\"Actualizando el diccionario con conceptos no categorizados:\")\n",
    "    dic_cat = actualizar_diccionario(dic_cat, conceptos_no_categorizados, category_map)\n",
    "    # Vuelve a aplicar la categorización con el diccionario actualizado\n",
    "    df = aplicar_categorizacion(df, dic_cat)\n",
    "\n"
   ]
  },
  {
   "cell_type": "markdown",
   "metadata": {},
   "source": [
    "#### Paso 7: Guardar el DataFrame final en un archivo CSV\n"
   ]
  },
  {
   "cell_type": "code",
   "execution_count": 36,
   "metadata": {},
   "outputs": [
    {
     "name": "stdout",
     "output_type": "stream",
     "text": [
      "Archivo CSV guardado en C:\\Users\\diego\\Desktop\\GitHub\\DiegoMere-Esp\\Entrega de Proyecto\\ParaUsar.csv\n"
     ]
    }
   ],
   "source": [
    "df_final = df[['Fecha', 'Importe', 'Categoria']]\n",
    "guardar_csv(df_final, ruta_salida)\n",
    "print(\"Archivo CSV guardado en\", ruta_salida)"
   ]
  }
 ],
 "metadata": {
  "kernelspec": {
   "display_name": "base",
   "language": "python",
   "name": "python3"
  },
  "language_info": {
   "codemirror_mode": {
    "name": "ipython",
    "version": 3
   },
   "file_extension": ".py",
   "mimetype": "text/x-python",
   "name": "python",
   "nbconvert_exporter": "python",
   "pygments_lexer": "ipython3",
   "version": "3.12.7"
  }
 },
 "nbformat": 4,
 "nbformat_minor": 2
}
