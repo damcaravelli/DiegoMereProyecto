{
 "cells": [
  {
   "cell_type": "code",
   "execution_count": 1,
   "metadata": {},
   "outputs": [],
   "source": [
    "import seaborn as sns\n",
    "import pandas as pd\n",
    "import plotly.express as px\n",
    "import numpy as np"
   ]
  },
  {
   "cell_type": "markdown",
   "metadata": {},
   "source": [
    "### Extraemos la informacion a dataframes para su uso"
   ]
  },
  {
   "cell_type": "code",
   "execution_count": null,
   "metadata": {},
   "outputs": [],
   "source": [
    "df = pd.read_csv(\"\"\"DIRECTORIO\"\"\")\n",
    "df_sp500 = pd.read_csv(\"\"\"DIRECTORIO\"\"\")\n",
    "df_bitcoin = pd.read_csv(\"\"\"DIRECTORIO\"\"\")\n",
    "df_dolar = pd.read_csv(\"\"\"DIRECTORIO\"\"\")"
   ]
  },
  {
   "cell_type": "markdown",
   "metadata": {},
   "source": [
    "#### Limpieza de los dataframes"
   ]
  },
  {
   "cell_type": "code",
   "execution_count": 4,
   "metadata": {},
   "outputs": [],
   "source": [
    "df_dolar = df_dolar[['date','euro_to_usd']]\n",
    "df_dolar.rename(columns={'date': 'Fecha', 'euro_to_usd': 'Euro'}, inplace=True)"
   ]
  },
  {
   "cell_type": "code",
   "execution_count": 5,
   "metadata": {},
   "outputs": [],
   "source": [
    "df_bitcoin = df_bitcoin[['Open time','Open']]\n",
    "df_bitcoin.rename(columns={'Open time': 'Fecha', 'Open': 'Precio_Bitcoin'}, inplace=True)"
   ]
  },
  {
   "cell_type": "code",
   "execution_count": 6,
   "metadata": {},
   "outputs": [],
   "source": [
    "df_sp500 = df_sp500[['Date','Open']]\n",
    "df_sp500.rename(columns={'Date': 'Fecha','Open': 'Precio_S&P500'}, inplace=True)"
   ]
  },
  {
   "cell_type": "markdown",
   "metadata": {},
   "source": [
    "#### Filtramos solo las categorias de \"Ahorro\" que seran las que utilizaremos"
   ]
  },
  {
   "cell_type": "code",
   "execution_count": 7,
   "metadata": {},
   "outputs": [],
   "source": [
    "df = df[df[\"Categoria\"]=='ahorro']"
   ]
  },
  {
   "cell_type": "markdown",
   "metadata": {},
   "source": [
    "#### Nos aseguremos que todos los campos de fecha esten en el formato correcto"
   ]
  },
  {
   "cell_type": "code",
   "execution_count": 8,
   "metadata": {},
   "outputs": [],
   "source": [
    "#Convierto la columna fecha a formato fecha\n",
    "df['Fecha'] = df['Fecha'].astype('datetime64[ns]')\n",
    "df_sp500['Fecha'] = df_sp500['Fecha'].astype('datetime64[ns]')\n",
    "df_bitcoin['Fecha'] = df_bitcoin['Fecha'].astype('datetime64[ns]')\n",
    "df_dolar['Fecha'] = df_dolar['Fecha'].astype('datetime64[ns]')\n"
   ]
  },
  {
   "cell_type": "markdown",
   "metadata": {},
   "source": [
    "#### Comrpobamos las limpiezas "
   ]
  },
  {
   "cell_type": "code",
   "execution_count": 9,
   "metadata": {},
   "outputs": [
    {
     "name": "stdout",
     "output_type": "stream",
     "text": [
      "<class 'pandas.core.frame.DataFrame'>\n",
      "Index: 63 entries, 4500 to 4562\n",
      "Data columns (total 3 columns):\n",
      " #   Column     Non-Null Count  Dtype         \n",
      "---  ------     --------------  -----         \n",
      " 0   Fecha      63 non-null     datetime64[ns]\n",
      " 1   Importe    63 non-null     float64       \n",
      " 2   Categoria  63 non-null     object        \n",
      "dtypes: datetime64[ns](1), float64(1), object(1)\n",
      "memory usage: 2.0+ KB\n"
     ]
    }
   ],
   "source": [
    "df.info()"
   ]
  },
  {
   "cell_type": "code",
   "execution_count": 10,
   "metadata": {},
   "outputs": [
    {
     "name": "stdout",
     "output_type": "stream",
     "text": [
      "<class 'pandas.core.frame.DataFrame'>\n",
      "RangeIndex: 2626 entries, 0 to 2625\n",
      "Data columns (total 2 columns):\n",
      " #   Column          Non-Null Count  Dtype         \n",
      "---  ------          --------------  -----         \n",
      " 0   Fecha           2626 non-null   datetime64[ns]\n",
      " 1   Precio_Bitcoin  2626 non-null   float64       \n",
      "dtypes: datetime64[ns](1), float64(1)\n",
      "memory usage: 41.2 KB\n"
     ]
    }
   ],
   "source": [
    "df_bitcoin.info()"
   ]
  },
  {
   "cell_type": "code",
   "execution_count": 11,
   "metadata": {},
   "outputs": [
    {
     "name": "stdout",
     "output_type": "stream",
     "text": [
      "<class 'pandas.core.frame.DataFrame'>\n",
      "RangeIndex: 24410 entries, 0 to 24409\n",
      "Data columns (total 2 columns):\n",
      " #   Column         Non-Null Count  Dtype         \n",
      "---  ------         --------------  -----         \n",
      " 0   Fecha          24410 non-null  datetime64[ns]\n",
      " 1   Precio_S&P500  24410 non-null  float64       \n",
      "dtypes: datetime64[ns](1), float64(1)\n",
      "memory usage: 381.5 KB\n"
     ]
    }
   ],
   "source": [
    "df_sp500.info()"
   ]
  },
  {
   "cell_type": "code",
   "execution_count": 12,
   "metadata": {},
   "outputs": [
    {
     "name": "stdout",
     "output_type": "stream",
     "text": [
      "<class 'pandas.core.frame.DataFrame'>\n",
      "RangeIndex: 5323 entries, 0 to 5322\n",
      "Data columns (total 2 columns):\n",
      " #   Column  Non-Null Count  Dtype         \n",
      "---  ------  --------------  -----         \n",
      " 0   Fecha   5323 non-null   datetime64[ns]\n",
      " 1   Euro    5255 non-null   float64       \n",
      "dtypes: datetime64[ns](1), float64(1)\n",
      "memory usage: 83.3 KB\n"
     ]
    }
   ],
   "source": [
    "df_dolar.info()"
   ]
  },
  {
   "cell_type": "markdown",
   "metadata": {},
   "source": [
    "### Merge de todos los datos a un dataframe"
   ]
  },
  {
   "cell_type": "code",
   "execution_count": 13,
   "metadata": {},
   "outputs": [],
   "source": [
    "Precios_df = df.merge(df_sp500, left_on='Fecha', right_on='Fecha', how='left')\n",
    "Precios_df = Precios_df.merge(df_bitcoin, left_on='Fecha', right_on='Fecha', how='left')\n",
    "Precios_df = Precios_df.merge(df_dolar, left_on='Fecha', right_on='Fecha', how='left')"
   ]
  },
  {
   "cell_type": "markdown",
   "metadata": {},
   "source": [
    "#### Llenamos los datos vacios con los superiores e inferiores "
   ]
  },
  {
   "cell_type": "code",
   "execution_count": null,
   "metadata": {},
   "outputs": [],
   "source": [
    "# Ordenar el dataframe por la columna 'Fecha'\n",
    "Precios_df = Precios_df.sort_values(by='Fecha')\n",
    "\n",
    "#Al ser historicos de precios, hay campos vacios, en especial festivos y fines de semana\n",
    "Precios_df['Euro'] = Precios_df['Euro'].ffill()\n",
    "Precios_df['Precio_Bitcoin'] = Precios_df['Precio_Bitcoin'].ffill()\n",
    "Precios_df['Precio_S&P500'] = Precios_df['Precio_S&P500'].ffill()\n",
    "Precios_df['Euro'] = Precios_df['Euro'].bfill()\n",
    "Precios_df['Precio_Bitcoin'] = Precios_df['Precio_Bitcoin'].bfill()\n",
    "Precios_df['Precio_S&P500'] = Precios_df['Precio_S&P500'].bfill()\n"
   ]
  },
  {
   "cell_type": "markdown",
   "metadata": {},
   "source": [
    "#### Convertimos nuestros precios de bitcoin y S&P500 a euros con el cambio correspondient al dia"
   ]
  },
  {
   "cell_type": "code",
   "execution_count": 15,
   "metadata": {},
   "outputs": [],
   "source": [
    "Precios_df['Precio_Bitcoin'] = Precios_df['Precio_Bitcoin']*Precios_df['Euro']\n",
    "Precios_df['Precio_S&P500'] = Precios_df['Precio_S&P500']*Precios_df['Euro']"
   ]
  },
  {
   "cell_type": "code",
   "execution_count": 16,
   "metadata": {},
   "outputs": [],
   "source": [
    "Precios_df = Precios_df.drop('Euro', axis=1)"
   ]
  },
  {
   "cell_type": "code",
   "execution_count": 17,
   "metadata": {},
   "outputs": [
    {
     "name": "stdout",
     "output_type": "stream",
     "text": [
      "<class 'pandas.core.frame.DataFrame'>\n",
      "Index: 63 entries, 32 to 0\n",
      "Data columns (total 5 columns):\n",
      " #   Column          Non-Null Count  Dtype         \n",
      "---  ------          --------------  -----         \n",
      " 0   Fecha           63 non-null     datetime64[ns]\n",
      " 1   Importe         63 non-null     float64       \n",
      " 2   Categoria       63 non-null     object        \n",
      " 3   Precio_S&P500   63 non-null     float64       \n",
      " 4   Precio_Bitcoin  63 non-null     float64       \n",
      "dtypes: datetime64[ns](1), float64(3), object(1)\n",
      "memory usage: 3.0+ KB\n"
     ]
    }
   ],
   "source": [
    "Precios_df.info()"
   ]
  },
  {
   "cell_type": "code",
   "execution_count": null,
   "metadata": {},
   "outputs": [],
   "source": [
    "Precios_df.to_csv(\"\"\"DIRECTORIO\"\"\")"
   ]
  },
  {
   "cell_type": "markdown",
   "metadata": {},
   "source": [
    "### Funcion con la que creamos la simulacion, por entrada"
   ]
  },
  {
   "cell_type": "code",
   "execution_count": 21,
   "metadata": {},
   "outputs": [],
   "source": [
    "def simulate_investment_evolution(Bitcoin, Fondo, df = Precios_df):\n",
    "    Efectivo = (100-(Fondo + Bitcoin))/100\n",
    "    Bitcoin = Bitcoin / 100\n",
    "    Fondo = Fondo / 100\n",
    "    df = df.copy()\n",
    "    df['Importe'] = df['Importe'].abs()\n",
    "    df['Efectivo'] = df['Importe'] * Efectivo\n",
    "    df['sp_units'] = (df['Importe'] * Fondo) / df['Precio_S&P500']\n",
    "    df['btc_units'] = (df['Importe'] * Bitcoin) / df['Precio_Bitcoin']\n",
    "    \n",
    "    df['Acum_Efectivo'] = df['Efectivo'].cumsum()\n",
    "    df['Acum_sp_units'] = df['sp_units'].cumsum()\n",
    "    df['Acum_btc_units'] = df['btc_units'].cumsum()\n",
    "\n",
    "    df['Total_ganado'] = df['Acum_Efectivo'] + df['Acum_sp_units'] * df['Precio_S&P500'] + df['Acum_btc_units'] * df['Precio_Bitcoin']\n",
    "    \n",
    "    return df[['Fecha', 'Total_ganado']]"
   ]
  },
  {
   "cell_type": "markdown",
   "metadata": {},
   "source": [
    "### Combinamos las distintas distribuciones con la simulacion de precios\n"
   ]
  },
  {
   "cell_type": "code",
   "execution_count": 22,
   "metadata": {},
   "outputs": [],
   "source": [
    "def simulate_investment_evolution_for_all_options(OpcionesDF, Datos_DF):\n",
    "    results = {}\n",
    "    \n",
    "    for index, row in OpcionesDF.iterrows():\n",
    "        btc = row['BTC']\n",
    "        sp = row['SP']\n",
    "        investment_evolution = simulate_investment_evolution(btc, sp, Datos_DF)\n",
    "        results[(btc, sp)] = investment_evolution\n",
    "    \n",
    "    results = pd.concat(results, names=[\"BTC\", \"SP\"]).reset_index(level=[0, 1])\n",
    "    \n",
    "    return results"
   ]
  },
  {
   "cell_type": "markdown",
   "metadata": {},
   "source": [
    "### Creamos un dataframe con todas las opciones de inversion"
   ]
  },
  {
   "cell_type": "code",
   "execution_count": null,
   "metadata": {},
   "outputs": [],
   "source": [
    "# Crear los valores para BTC y SP, en este caso, de 10 en 10, pero podemos variar el rango\n",
    "btc_values = list(range(0, 101,10)) \n",
    "sp_values = list(range(0, 101,10))\n",
    "\n",
    "# Crear una lista para almacenar las combinaciones\n",
    "data = []\n",
    "\n",
    "# Utilizar bucles for para generar las combinaciones\n",
    "for btc in btc_values:\n",
    "    for sp in sp_values:\n",
    "        if btc + sp <= 100:\n",
    "            data.append((btc, sp))\n",
    "\n",
    "# Crear el DataFrame a partir de la lista de combinaciones\n",
    "DF_Opciones_Inversion = pd.DataFrame(data, columns=['BTC', 'SP'])"
   ]
  },
  {
   "cell_type": "markdown",
   "metadata": {},
   "source": [
    "### Ejecutamos la simulacion"
   ]
  },
  {
   "cell_type": "code",
   "execution_count": 32,
   "metadata": {},
   "outputs": [
    {
     "data": {
      "text/html": [
       "<div>\n",
       "<style scoped>\n",
       "    .dataframe tbody tr th:only-of-type {\n",
       "        vertical-align: middle;\n",
       "    }\n",
       "\n",
       "    .dataframe tbody tr th {\n",
       "        vertical-align: top;\n",
       "    }\n",
       "\n",
       "    .dataframe thead th {\n",
       "        text-align: right;\n",
       "    }\n",
       "</style>\n",
       "<table border=\"1\" class=\"dataframe\">\n",
       "  <thead>\n",
       "    <tr style=\"text-align: right;\">\n",
       "      <th></th>\n",
       "      <th>BTC</th>\n",
       "      <th>SP</th>\n",
       "      <th>Fecha</th>\n",
       "      <th>Total_ganado</th>\n",
       "    </tr>\n",
       "  </thead>\n",
       "  <tbody>\n",
       "    <tr>\n",
       "      <th>32</th>\n",
       "      <td>0</td>\n",
       "      <td>0</td>\n",
       "      <td>2019-06-01</td>\n",
       "      <td>250.000000</td>\n",
       "    </tr>\n",
       "    <tr>\n",
       "      <th>31</th>\n",
       "      <td>0</td>\n",
       "      <td>0</td>\n",
       "      <td>2019-07-01</td>\n",
       "      <td>500.000000</td>\n",
       "    </tr>\n",
       "    <tr>\n",
       "      <th>30</th>\n",
       "      <td>0</td>\n",
       "      <td>0</td>\n",
       "      <td>2019-07-29</td>\n",
       "      <td>510.000000</td>\n",
       "    </tr>\n",
       "    <tr>\n",
       "      <th>29</th>\n",
       "      <td>0</td>\n",
       "      <td>0</td>\n",
       "      <td>2019-07-31</td>\n",
       "      <td>530.000000</td>\n",
       "    </tr>\n",
       "    <tr>\n",
       "      <th>28</th>\n",
       "      <td>0</td>\n",
       "      <td>0</td>\n",
       "      <td>2019-08-01</td>\n",
       "      <td>780.000000</td>\n",
       "    </tr>\n",
       "    <tr>\n",
       "      <th>...</th>\n",
       "      <td>...</td>\n",
       "      <td>...</td>\n",
       "      <td>...</td>\n",
       "      <td>...</td>\n",
       "    </tr>\n",
       "    <tr>\n",
       "      <th>52</th>\n",
       "      <td>100</td>\n",
       "      <td>0</td>\n",
       "      <td>2023-08-01</td>\n",
       "      <td>42090.633276</td>\n",
       "    </tr>\n",
       "    <tr>\n",
       "      <th>62</th>\n",
       "      <td>100</td>\n",
       "      <td>0</td>\n",
       "      <td>2023-12-05</td>\n",
       "      <td>60768.428058</td>\n",
       "    </tr>\n",
       "    <tr>\n",
       "      <th>16</th>\n",
       "      <td>100</td>\n",
       "      <td>0</td>\n",
       "      <td>2024-03-01</td>\n",
       "      <td>89034.465059</td>\n",
       "    </tr>\n",
       "    <tr>\n",
       "      <th>15</th>\n",
       "      <td>100</td>\n",
       "      <td>0</td>\n",
       "      <td>2024-03-07</td>\n",
       "      <td>97463.574717</td>\n",
       "    </tr>\n",
       "    <tr>\n",
       "      <th>0</th>\n",
       "      <td>100</td>\n",
       "      <td>0</td>\n",
       "      <td>2024-04-17</td>\n",
       "      <td>92679.786007</td>\n",
       "    </tr>\n",
       "  </tbody>\n",
       "</table>\n",
       "<p>4158 rows × 4 columns</p>\n",
       "</div>"
      ],
      "text/plain": [
       "    BTC  SP      Fecha  Total_ganado\n",
       "32    0   0 2019-06-01    250.000000\n",
       "31    0   0 2019-07-01    500.000000\n",
       "30    0   0 2019-07-29    510.000000\n",
       "29    0   0 2019-07-31    530.000000\n",
       "28    0   0 2019-08-01    780.000000\n",
       "..  ...  ..        ...           ...\n",
       "52  100   0 2023-08-01  42090.633276\n",
       "62  100   0 2023-12-05  60768.428058\n",
       "16  100   0 2024-03-01  89034.465059\n",
       "15  100   0 2024-03-07  97463.574717\n",
       "0   100   0 2024-04-17  92679.786007\n",
       "\n",
       "[4158 rows x 4 columns]"
      ]
     },
     "execution_count": 32,
     "metadata": {},
     "output_type": "execute_result"
    }
   ],
   "source": [
    "Resultados_DF = simulate_investment_evolution_for_all_options(DF_Opciones_Inversion, Precios_df)\n",
    "Resultados_DF\n",
    "\n"
   ]
  },
  {
   "cell_type": "markdown",
   "metadata": {},
   "source": [
    "### Obtenemos todas las opciones para la ultima fecha del dataframe"
   ]
  },
  {
   "cell_type": "code",
   "execution_count": 33,
   "metadata": {},
   "outputs": [],
   "source": [
    "# Obtener la última fecha\n",
    "ultima_fecha = Resultados_DF['Fecha'].max()\n",
    "\n",
    "# Filtrar el DataFrame para obtener solo las filas correspondientes a la última fecha\n",
    "df_ultima_fecha = Resultados_DF[Resultados_DF['Fecha'] == ultima_fecha]"
   ]
  },
  {
   "cell_type": "markdown",
   "metadata": {},
   "source": [
    "### Grafico temporal de algunas de las opciones de inversion"
   ]
  },
  {
   "cell_type": "code",
   "execution_count": 43,
   "metadata": {},
   "outputs": [
    {
     "data": {
      "application/vnd.plotly.v1+json": {
       "config": {
        "plotlyServerURL": "https://plot.ly"
       },
       "data": [
        {
         "hovertemplate": "Distribucion=BTC 0% - SP 0%<br>Fecha=%{x}<br>Total Ganado=%{y}<extra></extra>",
         "legendgroup": "BTC 0% - SP 0%",
         "line": {
          "color": "#F8766D",
          "dash": "solid"
         },
         "marker": {
          "symbol": "circle"
         },
         "mode": "lines+markers",
         "name": "BTC 0% - SP 0%",
         "orientation": "v",
         "showlegend": true,
         "type": "scatter",
         "x": [
          "2019-06-01T00:00:00",
          "2019-07-01T00:00:00",
          "2019-07-29T00:00:00",
          "2019-07-31T00:00:00",
          "2019-08-01T00:00:00",
          "2019-09-01T00:00:00",
          "2019-10-01T00:00:00",
          "2019-11-01T00:00:00",
          "2019-12-01T00:00:00",
          "2020-01-01T00:00:00",
          "2020-02-01T00:00:00",
          "2020-03-01T00:00:00",
          "2020-04-01T00:00:00",
          "2020-04-29T00:00:00",
          "2020-05-01T00:00:00",
          "2020-05-29T00:00:00",
          "2020-06-01T00:00:00",
          "2020-07-01T00:00:00",
          "2020-08-01T00:00:00",
          "2020-09-01T00:00:00",
          "2020-09-12T00:00:00",
          "2020-09-14T00:00:00",
          "2020-10-01T00:00:00",
          "2021-02-03T00:00:00",
          "2021-02-26T00:00:00",
          "2021-03-02T00:00:00",
          "2021-04-03T00:00:00",
          "2021-04-15T00:00:00",
          "2021-05-01T00:00:00",
          "2021-06-01T00:00:00",
          "2021-06-07T00:00:00",
          "2021-06-29T00:00:00",
          "2021-07-03T00:00:00",
          "2021-08-01T00:00:00",
          "2021-08-05T00:00:00",
          "2021-11-05T00:00:00",
          "2021-12-01T00:00:00",
          "2021-12-31T00:00:00",
          "2022-01-31T00:00:00",
          "2022-03-01T00:00:00",
          "2022-06-08T00:00:00",
          "2022-06-30T00:00:00",
          "2022-07-29T00:00:00",
          "2022-11-01T00:00:00",
          "2022-12-01T00:00:00",
          "2022-12-01T00:00:00",
          "2022-12-08T00:00:00",
          "2023-01-10T00:00:00",
          "2023-02-01T00:00:00",
          "2023-02-01T00:00:00",
          "2023-03-01T00:00:00",
          "2023-03-15T00:00:00",
          "2023-03-19T00:00:00",
          "2023-04-12T00:00:00",
          "2023-05-01T00:00:00",
          "2023-06-06T00:00:00",
          "2023-07-03T00:00:00",
          "2023-08-01T00:00:00",
          "2023-08-01T00:00:00",
          "2023-12-05T00:00:00",
          "2024-03-01T00:00:00",
          "2024-03-07T00:00:00",
          "2024-04-17T00:00:00"
         ],
         "xaxis": "x",
         "y": [
          250,
          500,
          510,
          530,
          780,
          1030,
          1280,
          1530,
          1780,
          2030,
          2280,
          2530,
          2780,
          3080,
          3330,
          3580,
          3830,
          4080,
          4330,
          4580,
          4980,
          6980,
          7230,
          7730,
          8330,
          8630,
          8880,
          9880,
          10136.77,
          10436.77,
          10815.19,
          10915.19,
          11215.19,
          11615.19,
          12615.19,
          12915.19,
          13415.19,
          13715.19,
          14215.19,
          14465.19,
          14485.19,
          15285.19,
          16585.190000000002,
          16785.190000000002,
          17235.190000000002,
          18035.190000000002,
          18535.190000000002,
          19135.190000000002,
          20035.190000000002,
          20285.190000000002,
          20785.190000000002,
          22085.190000000002,
          22685.190000000002,
          23685.190000000002,
          24335.190000000002,
          25035.190000000002,
          25535.190000000002,
          25620.190000000002,
          26620.190000000002,
          27770.190000000002,
          28370.190000000002,
          28870.190000000002,
          29670.190000000002
         ],
         "yaxis": "y"
        },
        {
         "hovertemplate": "Distribucion=BTC 0% - SP 100%<br>Fecha=%{x}<br>Total Ganado=%{y}<extra></extra>",
         "legendgroup": "BTC 0% - SP 100%",
         "line": {
          "color": "#A3A500",
          "dash": "solid"
         },
         "marker": {
          "symbol": "circle"
         },
         "mode": "lines+markers",
         "name": "BTC 0% - SP 100%",
         "orientation": "v",
         "showlegend": true,
         "type": "scatter",
         "x": [
          "2019-06-01T00:00:00",
          "2019-07-01T00:00:00",
          "2019-07-29T00:00:00",
          "2019-07-31T00:00:00",
          "2019-08-01T00:00:00",
          "2019-09-01T00:00:00",
          "2019-10-01T00:00:00",
          "2019-11-01T00:00:00",
          "2019-12-01T00:00:00",
          "2020-01-01T00:00:00",
          "2020-02-01T00:00:00",
          "2020-03-01T00:00:00",
          "2020-04-01T00:00:00",
          "2020-04-29T00:00:00",
          "2020-05-01T00:00:00",
          "2020-05-29T00:00:00",
          "2020-06-01T00:00:00",
          "2020-07-01T00:00:00",
          "2020-08-01T00:00:00",
          "2020-09-01T00:00:00",
          "2020-09-12T00:00:00",
          "2020-09-14T00:00:00",
          "2020-10-01T00:00:00",
          "2021-02-03T00:00:00",
          "2021-02-26T00:00:00",
          "2021-03-02T00:00:00",
          "2021-04-03T00:00:00",
          "2021-04-15T00:00:00",
          "2021-05-01T00:00:00",
          "2021-06-01T00:00:00",
          "2021-06-07T00:00:00",
          "2021-06-29T00:00:00",
          "2021-07-03T00:00:00",
          "2021-08-01T00:00:00",
          "2021-08-05T00:00:00",
          "2021-11-05T00:00:00",
          "2021-12-01T00:00:00",
          "2021-12-31T00:00:00",
          "2022-01-31T00:00:00",
          "2022-03-01T00:00:00",
          "2022-06-08T00:00:00",
          "2022-06-30T00:00:00",
          "2022-07-29T00:00:00",
          "2022-11-01T00:00:00",
          "2022-12-01T00:00:00",
          "2022-12-01T00:00:00",
          "2022-12-08T00:00:00",
          "2023-01-10T00:00:00",
          "2023-02-01T00:00:00",
          "2023-02-01T00:00:00",
          "2023-03-01T00:00:00",
          "2023-03-15T00:00:00",
          "2023-03-19T00:00:00",
          "2023-04-12T00:00:00",
          "2023-05-01T00:00:00",
          "2023-06-06T00:00:00",
          "2023-07-03T00:00:00",
          "2023-08-01T00:00:00",
          "2023-08-01T00:00:00",
          "2023-12-05T00:00:00",
          "2024-03-01T00:00:00",
          "2024-03-07T00:00:00",
          "2024-04-17T00:00:00"
         ],
         "xaxis": "x",
         "y": [
          250,
          500,
          508.6144354345047,
          528.6868395623496,
          767.0536670390345,
          1017.0536670390344,
          1255.3803993004797,
          1561.9684725885334,
          1811.9684725885331,
          2061.9684725885336,
          2311.9684725885336,
          2561.9684725885336,
          2309.634175928091,
          2975.108998009636,
          3174.780826474547,
          3688.263499081671,
          3948.2029978540704,
          4315.930485332115,
          4565.930485332115,
          5768.509147322856,
          6168.509147322857,
          7860.691215390628,
          8080.210514930959,
          9871.269368123663,
          10555.117513035979,
          10948.661673716375,
          11198.661673716375,
          12818.769071020548,
          13075.539071020547,
          13901.704876213938,
          14250.532842613919,
          14239.838373740064,
          14539.838373740064,
          14939.838373740064,
          16293.244068583417,
          17181.3490153352,
          17029.251147773553,
          17967.050376441144,
          16942.044599223478,
          16938.577436867174,
          15509.81427471107,
          14495.116578231155,
          16664.089852936406,
          15716.111558792885,
          17751.792046999974,
          18551.792046999974,
          18530.69101011473,
          19206.699654025826,
          21323.76322625111,
          21573.76322625111,
          21103.066797838626,
          21681.132892743495,
          22281.132892743495,
          25526.74878436446,
          26455.87643510703,
          27226.241505254555,
          28868.110989773722,
          30583.56746521235,
          31583.56746521235,
          32146.2897602003,
          36550.97145101052,
          37572.80904763384,
          37033.25596686468
         ],
         "yaxis": "y"
        },
        {
         "hovertemplate": "Distribucion=BTC 50% - SP 50%<br>Fecha=%{x}<br>Total Ganado=%{y}<extra></extra>",
         "legendgroup": "BTC 50% - SP 50%",
         "line": {
          "color": "#00BF7D",
          "dash": "solid"
         },
         "marker": {
          "symbol": "circle"
         },
         "mode": "lines+markers",
         "name": "BTC 50% - SP 50%",
         "orientation": "v",
         "showlegend": true,
         "type": "scatter",
         "x": [
          "2019-06-01T00:00:00",
          "2019-07-01T00:00:00",
          "2019-07-29T00:00:00",
          "2019-07-31T00:00:00",
          "2019-08-01T00:00:00",
          "2019-09-01T00:00:00",
          "2019-10-01T00:00:00",
          "2019-11-01T00:00:00",
          "2019-12-01T00:00:00",
          "2020-01-01T00:00:00",
          "2020-02-01T00:00:00",
          "2020-03-01T00:00:00",
          "2020-04-01T00:00:00",
          "2020-04-29T00:00:00",
          "2020-05-01T00:00:00",
          "2020-05-29T00:00:00",
          "2020-06-01T00:00:00",
          "2020-07-01T00:00:00",
          "2020-08-01T00:00:00",
          "2020-09-01T00:00:00",
          "2020-09-12T00:00:00",
          "2020-09-14T00:00:00",
          "2020-10-01T00:00:00",
          "2021-02-03T00:00:00",
          "2021-02-26T00:00:00",
          "2021-03-02T00:00:00",
          "2021-04-03T00:00:00",
          "2021-04-15T00:00:00",
          "2021-05-01T00:00:00",
          "2021-06-01T00:00:00",
          "2021-06-07T00:00:00",
          "2021-06-29T00:00:00",
          "2021-07-03T00:00:00",
          "2021-08-01T00:00:00",
          "2021-08-05T00:00:00",
          "2021-11-05T00:00:00",
          "2021-12-01T00:00:00",
          "2021-12-31T00:00:00",
          "2022-01-31T00:00:00",
          "2022-03-01T00:00:00",
          "2022-06-08T00:00:00",
          "2022-06-30T00:00:00",
          "2022-07-29T00:00:00",
          "2022-11-01T00:00:00",
          "2022-12-01T00:00:00",
          "2022-12-01T00:00:00",
          "2022-12-08T00:00:00",
          "2023-01-10T00:00:00",
          "2023-02-01T00:00:00",
          "2023-02-01T00:00:00",
          "2023-03-01T00:00:00",
          "2023-03-15T00:00:00",
          "2023-03-19T00:00:00",
          "2023-04-12T00:00:00",
          "2023-05-01T00:00:00",
          "2023-06-06T00:00:00",
          "2023-07-03T00:00:00",
          "2023-08-01T00:00:00",
          "2023-08-01T00:00:00",
          "2023-12-05T00:00:00",
          "2024-03-01T00:00:00",
          "2024-03-07T00:00:00",
          "2024-04-17T00:00:00"
         ],
         "xaxis": "x",
         "y": [
          250,
          533.5929281122151,
          503.55362700206695,
          525.1837150963327,
          780.3312403421237,
          1010.97269081831,
          1181.610347369484,
          1530.2660175648934,
          1649.0942038796718,
          1865.0568950998588,
          2365.0350287735782,
          2507.9727951016494,
          2186.0341536972564,
          2871.395715015561,
          3253.8503816051925,
          3870.5851240883917,
          4094.9610907630386,
          4349.69676065408,
          5126.729463694164,
          6137.16694829955,
          6184.882662514918,
          7985.982346636825,
          8350.749357886856,
          19694.700617165483,
          25332.94415450641,
          26592.0850924911,
          30825.10204284641,
          33720.98737785824,
          31695.00047981229,
          23690.35072002075,
          23316.172480201873,
          22420.678047447134,
          22406.478102501962,
          26245.055436705163,
          26576.93948953113,
          36430.38527247749,
          34129.402051258076,
          30327.185243837863,
          25640.14607314796,
          28166.191347775457,
          21431.244938584397,
          16199.702400433822,
          19397.088558843716,
          17232.45964348513,
          17354.30967384941,
          18154.30967384941,
          18277.79531291093,
          19277.41945271028,
          24342.05590772749,
          24592.05590772749,
          24350.21507616113,
          26014.9783426497,
          27990.973851639035,
          32844.66101599856,
          32991.08092384437,
          30976.08965204081,
          35346.30027115267,
          35837.10037048468,
          36837.10037048468,
          46457.35890932188,
          62792.71825524121,
          67518.19188245537,
          64856.52098669355
         ],
         "yaxis": "y"
        },
        {
         "hovertemplate": "Distribucion=BTC 100% - SP 0%<br>Fecha=%{x}<br>Total Ganado=%{y}<extra></extra>",
         "legendgroup": "BTC 100% - SP 0%",
         "line": {
          "color": "#00B0F6",
          "dash": "solid"
         },
         "marker": {
          "symbol": "circle"
         },
         "mode": "lines+markers",
         "name": "BTC 100% - SP 0%",
         "orientation": "v",
         "showlegend": true,
         "type": "scatter",
         "x": [
          "2019-06-01T00:00:00",
          "2019-07-01T00:00:00",
          "2019-07-29T00:00:00",
          "2019-07-31T00:00:00",
          "2019-08-01T00:00:00",
          "2019-09-01T00:00:00",
          "2019-10-01T00:00:00",
          "2019-11-01T00:00:00",
          "2019-12-01T00:00:00",
          "2020-01-01T00:00:00",
          "2020-02-01T00:00:00",
          "2020-03-01T00:00:00",
          "2020-04-01T00:00:00",
          "2020-04-29T00:00:00",
          "2020-05-01T00:00:00",
          "2020-05-29T00:00:00",
          "2020-06-01T00:00:00",
          "2020-07-01T00:00:00",
          "2020-08-01T00:00:00",
          "2020-09-01T00:00:00",
          "2020-09-12T00:00:00",
          "2020-09-14T00:00:00",
          "2020-10-01T00:00:00",
          "2021-02-03T00:00:00",
          "2021-02-26T00:00:00",
          "2021-03-02T00:00:00",
          "2021-04-03T00:00:00",
          "2021-04-15T00:00:00",
          "2021-05-01T00:00:00",
          "2021-06-01T00:00:00",
          "2021-06-07T00:00:00",
          "2021-06-29T00:00:00",
          "2021-07-03T00:00:00",
          "2021-08-01T00:00:00",
          "2021-08-05T00:00:00",
          "2021-11-05T00:00:00",
          "2021-12-01T00:00:00",
          "2021-12-31T00:00:00",
          "2022-01-31T00:00:00",
          "2022-03-01T00:00:00",
          "2022-06-08T00:00:00",
          "2022-06-30T00:00:00",
          "2022-07-29T00:00:00",
          "2022-11-01T00:00:00",
          "2022-12-01T00:00:00",
          "2022-12-01T00:00:00",
          "2022-12-08T00:00:00",
          "2023-01-10T00:00:00",
          "2023-02-01T00:00:00",
          "2023-02-01T00:00:00",
          "2023-03-01T00:00:00",
          "2023-03-15T00:00:00",
          "2023-03-19T00:00:00",
          "2023-04-12T00:00:00",
          "2023-05-01T00:00:00",
          "2023-06-06T00:00:00",
          "2023-07-03T00:00:00",
          "2023-08-01T00:00:00",
          "2023-08-01T00:00:00",
          "2023-12-05T00:00:00",
          "2024-03-01T00:00:00",
          "2024-03-07T00:00:00",
          "2024-04-17T00:00:00"
         ],
         "xaxis": "x",
         "y": [
          250,
          567.1858562244302,
          498.49281856962926,
          521.6805906303158,
          793.6088136452129,
          1004.8917145975855,
          1107.8402954384885,
          1498.5635625412538,
          1486.2199351708105,
          1668.145317611184,
          2418.1015849586233,
          2453.977117614765,
          2062.4341314664216,
          2767.682432021487,
          3332.919936735838,
          4052.9067490951124,
          4241.719183672007,
          4383.463035976047,
          5687.528442056213,
          6505.824749276245,
          6201.256177706978,
          8111.273477883024,
          8621.288200842753,
          29518.131866207303,
          40110.770795976845,
          42235.50851126582,
          50451.54241197645,
          54623.20568469594,
          50314.46188860403,
          33478.99656382756,
          32381.81211778983,
          30601.517721154207,
          30273.117831263862,
          37550.27249967026,
          36860.634910478846,
          55679.42152961978,
          51229.552954742605,
          42687.320111234585,
          34338.247547072446,
          39393.805258683744,
          27352.675602457726,
          17904.28822263649,
          22130.087264751022,
          18748.807728177377,
          16956.827300698846,
          17756.827300698846,
          18024.89961570713,
          19348.139251394732,
          27360.34858920387,
          27610.34858920387,
          27597.363354483634,
          30348.82379255591,
          33700.814810534575,
          40162.57324763265,
          39526.2854125817,
          34725.937798827064,
          41824.489552531624,
          41090.63327575701,
          42090.63327575701,
          60768.42805844347,
          89034.46505947191,
          97463.5747172769,
          92679.78600652242
         ],
         "yaxis": "y"
        }
       ],
       "layout": {
        "legend": {
         "title": {
          "text": "Distribución de Inversión"
         },
         "tracegroupgap": 0,
         "x": 1.05,
         "xanchor": "left",
         "y": 1
        },
        "template": {
         "data": {
          "bar": [
           {
            "error_x": {
             "color": "rgb(51,51,51)"
            },
            "error_y": {
             "color": "rgb(51,51,51)"
            },
            "marker": {
             "line": {
              "color": "rgb(237,237,237)",
              "width": 0.5
             },
             "pattern": {
              "fillmode": "overlay",
              "size": 10,
              "solidity": 0.2
             }
            },
            "type": "bar"
           }
          ],
          "barpolar": [
           {
            "marker": {
             "line": {
              "color": "rgb(237,237,237)",
              "width": 0.5
             },
             "pattern": {
              "fillmode": "overlay",
              "size": 10,
              "solidity": 0.2
             }
            },
            "type": "barpolar"
           }
          ],
          "carpet": [
           {
            "aaxis": {
             "endlinecolor": "rgb(51,51,51)",
             "gridcolor": "white",
             "linecolor": "white",
             "minorgridcolor": "white",
             "startlinecolor": "rgb(51,51,51)"
            },
            "baxis": {
             "endlinecolor": "rgb(51,51,51)",
             "gridcolor": "white",
             "linecolor": "white",
             "minorgridcolor": "white",
             "startlinecolor": "rgb(51,51,51)"
            },
            "type": "carpet"
           }
          ],
          "choropleth": [
           {
            "colorbar": {
             "outlinewidth": 0,
             "tickcolor": "rgb(237,237,237)",
             "ticklen": 6,
             "ticks": "inside"
            },
            "type": "choropleth"
           }
          ],
          "contour": [
           {
            "colorbar": {
             "outlinewidth": 0,
             "tickcolor": "rgb(237,237,237)",
             "ticklen": 6,
             "ticks": "inside"
            },
            "colorscale": [
             [
              0,
              "rgb(20,44,66)"
             ],
             [
              1,
              "rgb(90,179,244)"
             ]
            ],
            "type": "contour"
           }
          ],
          "contourcarpet": [
           {
            "colorbar": {
             "outlinewidth": 0,
             "tickcolor": "rgb(237,237,237)",
             "ticklen": 6,
             "ticks": "inside"
            },
            "type": "contourcarpet"
           }
          ],
          "heatmap": [
           {
            "colorbar": {
             "outlinewidth": 0,
             "tickcolor": "rgb(237,237,237)",
             "ticklen": 6,
             "ticks": "inside"
            },
            "colorscale": [
             [
              0,
              "rgb(20,44,66)"
             ],
             [
              1,
              "rgb(90,179,244)"
             ]
            ],
            "type": "heatmap"
           }
          ],
          "heatmapgl": [
           {
            "colorbar": {
             "outlinewidth": 0,
             "tickcolor": "rgb(237,237,237)",
             "ticklen": 6,
             "ticks": "inside"
            },
            "colorscale": [
             [
              0,
              "rgb(20,44,66)"
             ],
             [
              1,
              "rgb(90,179,244)"
             ]
            ],
            "type": "heatmapgl"
           }
          ],
          "histogram": [
           {
            "marker": {
             "pattern": {
              "fillmode": "overlay",
              "size": 10,
              "solidity": 0.2
             }
            },
            "type": "histogram"
           }
          ],
          "histogram2d": [
           {
            "colorbar": {
             "outlinewidth": 0,
             "tickcolor": "rgb(237,237,237)",
             "ticklen": 6,
             "ticks": "inside"
            },
            "colorscale": [
             [
              0,
              "rgb(20,44,66)"
             ],
             [
              1,
              "rgb(90,179,244)"
             ]
            ],
            "type": "histogram2d"
           }
          ],
          "histogram2dcontour": [
           {
            "colorbar": {
             "outlinewidth": 0,
             "tickcolor": "rgb(237,237,237)",
             "ticklen": 6,
             "ticks": "inside"
            },
            "colorscale": [
             [
              0,
              "rgb(20,44,66)"
             ],
             [
              1,
              "rgb(90,179,244)"
             ]
            ],
            "type": "histogram2dcontour"
           }
          ],
          "mesh3d": [
           {
            "colorbar": {
             "outlinewidth": 0,
             "tickcolor": "rgb(237,237,237)",
             "ticklen": 6,
             "ticks": "inside"
            },
            "type": "mesh3d"
           }
          ],
          "parcoords": [
           {
            "line": {
             "colorbar": {
              "outlinewidth": 0,
              "tickcolor": "rgb(237,237,237)",
              "ticklen": 6,
              "ticks": "inside"
             }
            },
            "type": "parcoords"
           }
          ],
          "pie": [
           {
            "automargin": true,
            "type": "pie"
           }
          ],
          "scatter": [
           {
            "fillpattern": {
             "fillmode": "overlay",
             "size": 10,
             "solidity": 0.2
            },
            "type": "scatter"
           }
          ],
          "scatter3d": [
           {
            "line": {
             "colorbar": {
              "outlinewidth": 0,
              "tickcolor": "rgb(237,237,237)",
              "ticklen": 6,
              "ticks": "inside"
             }
            },
            "marker": {
             "colorbar": {
              "outlinewidth": 0,
              "tickcolor": "rgb(237,237,237)",
              "ticklen": 6,
              "ticks": "inside"
             }
            },
            "type": "scatter3d"
           }
          ],
          "scattercarpet": [
           {
            "marker": {
             "colorbar": {
              "outlinewidth": 0,
              "tickcolor": "rgb(237,237,237)",
              "ticklen": 6,
              "ticks": "inside"
             }
            },
            "type": "scattercarpet"
           }
          ],
          "scattergeo": [
           {
            "marker": {
             "colorbar": {
              "outlinewidth": 0,
              "tickcolor": "rgb(237,237,237)",
              "ticklen": 6,
              "ticks": "inside"
             }
            },
            "type": "scattergeo"
           }
          ],
          "scattergl": [
           {
            "marker": {
             "colorbar": {
              "outlinewidth": 0,
              "tickcolor": "rgb(237,237,237)",
              "ticklen": 6,
              "ticks": "inside"
             }
            },
            "type": "scattergl"
           }
          ],
          "scattermapbox": [
           {
            "marker": {
             "colorbar": {
              "outlinewidth": 0,
              "tickcolor": "rgb(237,237,237)",
              "ticklen": 6,
              "ticks": "inside"
             }
            },
            "type": "scattermapbox"
           }
          ],
          "scatterpolar": [
           {
            "marker": {
             "colorbar": {
              "outlinewidth": 0,
              "tickcolor": "rgb(237,237,237)",
              "ticklen": 6,
              "ticks": "inside"
             }
            },
            "type": "scatterpolar"
           }
          ],
          "scatterpolargl": [
           {
            "marker": {
             "colorbar": {
              "outlinewidth": 0,
              "tickcolor": "rgb(237,237,237)",
              "ticklen": 6,
              "ticks": "inside"
             }
            },
            "type": "scatterpolargl"
           }
          ],
          "scatterternary": [
           {
            "marker": {
             "colorbar": {
              "outlinewidth": 0,
              "tickcolor": "rgb(237,237,237)",
              "ticklen": 6,
              "ticks": "inside"
             }
            },
            "type": "scatterternary"
           }
          ],
          "surface": [
           {
            "colorbar": {
             "outlinewidth": 0,
             "tickcolor": "rgb(237,237,237)",
             "ticklen": 6,
             "ticks": "inside"
            },
            "colorscale": [
             [
              0,
              "rgb(20,44,66)"
             ],
             [
              1,
              "rgb(90,179,244)"
             ]
            ],
            "type": "surface"
           }
          ],
          "table": [
           {
            "cells": {
             "fill": {
              "color": "rgb(237,237,237)"
             },
             "line": {
              "color": "white"
             }
            },
            "header": {
             "fill": {
              "color": "rgb(217,217,217)"
             },
             "line": {
              "color": "white"
             }
            },
            "type": "table"
           }
          ]
         },
         "layout": {
          "annotationdefaults": {
           "arrowhead": 0,
           "arrowwidth": 1
          },
          "autotypenumbers": "strict",
          "coloraxis": {
           "colorbar": {
            "outlinewidth": 0,
            "tickcolor": "rgb(237,237,237)",
            "ticklen": 6,
            "ticks": "inside"
           }
          },
          "colorscale": {
           "sequential": [
            [
             0,
             "rgb(20,44,66)"
            ],
            [
             1,
             "rgb(90,179,244)"
            ]
           ],
           "sequentialminus": [
            [
             0,
             "rgb(20,44,66)"
            ],
            [
             1,
             "rgb(90,179,244)"
            ]
           ]
          },
          "colorway": [
           "#F8766D",
           "#A3A500",
           "#00BF7D",
           "#00B0F6",
           "#E76BF3"
          ],
          "font": {
           "color": "rgb(51,51,51)"
          },
          "geo": {
           "bgcolor": "white",
           "lakecolor": "white",
           "landcolor": "rgb(237,237,237)",
           "showlakes": true,
           "showland": true,
           "subunitcolor": "white"
          },
          "hoverlabel": {
           "align": "left"
          },
          "hovermode": "closest",
          "paper_bgcolor": "white",
          "plot_bgcolor": "rgb(237,237,237)",
          "polar": {
           "angularaxis": {
            "gridcolor": "white",
            "linecolor": "white",
            "showgrid": true,
            "tickcolor": "rgb(51,51,51)",
            "ticks": "outside"
           },
           "bgcolor": "rgb(237,237,237)",
           "radialaxis": {
            "gridcolor": "white",
            "linecolor": "white",
            "showgrid": true,
            "tickcolor": "rgb(51,51,51)",
            "ticks": "outside"
           }
          },
          "scene": {
           "xaxis": {
            "backgroundcolor": "rgb(237,237,237)",
            "gridcolor": "white",
            "gridwidth": 2,
            "linecolor": "white",
            "showbackground": true,
            "showgrid": true,
            "tickcolor": "rgb(51,51,51)",
            "ticks": "outside",
            "zerolinecolor": "white"
           },
           "yaxis": {
            "backgroundcolor": "rgb(237,237,237)",
            "gridcolor": "white",
            "gridwidth": 2,
            "linecolor": "white",
            "showbackground": true,
            "showgrid": true,
            "tickcolor": "rgb(51,51,51)",
            "ticks": "outside",
            "zerolinecolor": "white"
           },
           "zaxis": {
            "backgroundcolor": "rgb(237,237,237)",
            "gridcolor": "white",
            "gridwidth": 2,
            "linecolor": "white",
            "showbackground": true,
            "showgrid": true,
            "tickcolor": "rgb(51,51,51)",
            "ticks": "outside",
            "zerolinecolor": "white"
           }
          },
          "shapedefaults": {
           "fillcolor": "black",
           "line": {
            "width": 0
           },
           "opacity": 0.3
          },
          "ternary": {
           "aaxis": {
            "gridcolor": "white",
            "linecolor": "white",
            "showgrid": true,
            "tickcolor": "rgb(51,51,51)",
            "ticks": "outside"
           },
           "baxis": {
            "gridcolor": "white",
            "linecolor": "white",
            "showgrid": true,
            "tickcolor": "rgb(51,51,51)",
            "ticks": "outside"
           },
           "bgcolor": "rgb(237,237,237)",
           "caxis": {
            "gridcolor": "white",
            "linecolor": "white",
            "showgrid": true,
            "tickcolor": "rgb(51,51,51)",
            "ticks": "outside"
           }
          },
          "xaxis": {
           "automargin": true,
           "gridcolor": "white",
           "linecolor": "white",
           "showgrid": true,
           "tickcolor": "rgb(51,51,51)",
           "ticks": "outside",
           "title": {
            "standoff": 15
           },
           "zerolinecolor": "white"
          },
          "yaxis": {
           "automargin": true,
           "gridcolor": "white",
           "linecolor": "white",
           "showgrid": true,
           "tickcolor": "rgb(51,51,51)",
           "ticks": "outside",
           "title": {
            "standoff": 15
           },
           "zerolinecolor": "white"
          }
         }
        },
        "title": {
         "text": "Evolución Temporal de la Inversión"
        },
        "xaxis": {
         "anchor": "y",
         "domain": [
          0,
          1
         ],
         "title": {
          "text": "Fecha"
         }
        },
        "yaxis": {
         "anchor": "x",
         "domain": [
          0,
          1
         ],
         "title": {
          "text": "Total Ganado"
         }
        }
       }
      }
     },
     "metadata": {},
     "output_type": "display_data"
    }
   ],
   "source": [
    "# Asegurarse de que la columna 'Fecha' esté en formato datetime\n",
    "Resultados_DF['Fecha'] = pd.to_datetime(Resultados_DF['Fecha'])\n",
    "\n",
    "# Crear una nueva columna para identificar cada distribución de inversión\n",
    "Resultados_DF['Distribucion'] = Resultados_DF.apply(\n",
    "    lambda row: f\"BTC {row['BTC']}% - SP {row['SP']}%\", axis=1\n",
    ")\n",
    "\n",
    "Resultados_DF = Resultados_DF[Resultados_DF['Distribucion'].isin(['BTC 0% - SP 0%', 'BTC 50% - SP 50%','BTC 100% - SP 0%','BTC 0% - SP 100%'])] #Filtro distribuciones interesantes\n",
    "\n",
    "\n",
    "# Crear el gráfico de líneas con markers para cada distribución\n",
    "fig = px.line(\n",
    "    Resultados_DF, \n",
    "    x='Fecha', \n",
    "    y='Total_ganado', \n",
    "    color='Distribucion', \n",
    "    markers=True,\n",
    "    title='Evolución Temporal de la Inversión',\n",
    "    labels={'Total_ganado': 'Total Ganado', 'Fecha': 'Fecha'},\n",
    "    template=\"ggplot2\"\n",
    ")\n",
    "\n",
    "# Ajustar la leyenda para que aparezca fuera del gráfico (a la derecha)\n",
    "fig.update_layout(\n",
    "    legend=dict(\n",
    "        title='Distribución de Inversión',\n",
    "        x=1.05,  # Posición horizontal fuera del gráfico\n",
    "        y=1,     # Posición vertical (parte superior)\n",
    "        xanchor='left'\n",
    "    )\n",
    ")\n",
    "\n",
    "\n",
    "# Mostrar el gráfico interactivo\n",
    "fig.show()"
   ]
  },
  {
   "cell_type": "markdown",
   "metadata": {},
   "source": [
    "### Creamos la matriz, comparando las opciones de inversion a la ultima fecha del dataframe"
   ]
  },
  {
   "cell_type": "code",
   "execution_count": 44,
   "metadata": {},
   "outputs": [],
   "source": [
    "matriz = pd.crosstab(index=df_ultima_fecha['SP'], columns=df_ultima_fecha['BTC'], values=df_ultima_fecha['Total_ganado'], aggfunc='sum')"
   ]
  },
  {
   "cell_type": "code",
   "execution_count": 45,
   "metadata": {},
   "outputs": [
    {
     "data": {
      "text/html": [
       "<div>\n",
       "<style scoped>\n",
       "    .dataframe tbody tr th:only-of-type {\n",
       "        vertical-align: middle;\n",
       "    }\n",
       "\n",
       "    .dataframe tbody tr th {\n",
       "        vertical-align: top;\n",
       "    }\n",
       "\n",
       "    .dataframe thead th {\n",
       "        text-align: right;\n",
       "    }\n",
       "</style>\n",
       "<table border=\"1\" class=\"dataframe\">\n",
       "  <thead>\n",
       "    <tr style=\"text-align: right;\">\n",
       "      <th>BTC</th>\n",
       "      <th>0</th>\n",
       "      <th>10</th>\n",
       "      <th>20</th>\n",
       "      <th>30</th>\n",
       "      <th>40</th>\n",
       "      <th>50</th>\n",
       "      <th>60</th>\n",
       "      <th>70</th>\n",
       "      <th>80</th>\n",
       "      <th>90</th>\n",
       "      <th>100</th>\n",
       "    </tr>\n",
       "    <tr>\n",
       "      <th>SP</th>\n",
       "      <th></th>\n",
       "      <th></th>\n",
       "      <th></th>\n",
       "      <th></th>\n",
       "      <th></th>\n",
       "      <th></th>\n",
       "      <th></th>\n",
       "      <th></th>\n",
       "      <th></th>\n",
       "      <th></th>\n",
       "      <th></th>\n",
       "    </tr>\n",
       "  </thead>\n",
       "  <tbody>\n",
       "    <tr>\n",
       "      <th>0</th>\n",
       "      <td>29670.190000</td>\n",
       "      <td>35971.149601</td>\n",
       "      <td>42272.109201</td>\n",
       "      <td>48573.068802</td>\n",
       "      <td>54874.028403</td>\n",
       "      <td>61174.988003</td>\n",
       "      <td>67475.947604</td>\n",
       "      <td>73776.907205</td>\n",
       "      <td>80077.866805</td>\n",
       "      <td>86378.826406</td>\n",
       "      <td>92679.786007</td>\n",
       "    </tr>\n",
       "    <tr>\n",
       "      <th>10</th>\n",
       "      <td>30406.496597</td>\n",
       "      <td>36707.456197</td>\n",
       "      <td>43008.415798</td>\n",
       "      <td>49309.375399</td>\n",
       "      <td>55610.334999</td>\n",
       "      <td>61911.294600</td>\n",
       "      <td>68212.254201</td>\n",
       "      <td>74513.213801</td>\n",
       "      <td>80814.173402</td>\n",
       "      <td>87115.133003</td>\n",
       "      <td>NaN</td>\n",
       "    </tr>\n",
       "    <tr>\n",
       "      <th>20</th>\n",
       "      <td>31142.803193</td>\n",
       "      <td>37443.762794</td>\n",
       "      <td>43744.722395</td>\n",
       "      <td>50045.681995</td>\n",
       "      <td>56346.641596</td>\n",
       "      <td>62647.601197</td>\n",
       "      <td>68948.560797</td>\n",
       "      <td>75249.520398</td>\n",
       "      <td>81550.479999</td>\n",
       "      <td>NaN</td>\n",
       "      <td>NaN</td>\n",
       "    </tr>\n",
       "    <tr>\n",
       "      <th>30</th>\n",
       "      <td>31879.109790</td>\n",
       "      <td>38180.069391</td>\n",
       "      <td>44481.028991</td>\n",
       "      <td>50781.988592</td>\n",
       "      <td>57082.948193</td>\n",
       "      <td>63383.907793</td>\n",
       "      <td>69684.867394</td>\n",
       "      <td>75985.826995</td>\n",
       "      <td>NaN</td>\n",
       "      <td>NaN</td>\n",
       "      <td>NaN</td>\n",
       "    </tr>\n",
       "    <tr>\n",
       "      <th>40</th>\n",
       "      <td>32615.416387</td>\n",
       "      <td>38916.375987</td>\n",
       "      <td>45217.335588</td>\n",
       "      <td>51518.295189</td>\n",
       "      <td>57819.254789</td>\n",
       "      <td>64120.214390</td>\n",
       "      <td>70421.173991</td>\n",
       "      <td>NaN</td>\n",
       "      <td>NaN</td>\n",
       "      <td>NaN</td>\n",
       "      <td>NaN</td>\n",
       "    </tr>\n",
       "    <tr>\n",
       "      <th>50</th>\n",
       "      <td>33351.722983</td>\n",
       "      <td>39652.682584</td>\n",
       "      <td>45953.642185</td>\n",
       "      <td>52254.601785</td>\n",
       "      <td>58555.561386</td>\n",
       "      <td>64856.520987</td>\n",
       "      <td>NaN</td>\n",
       "      <td>NaN</td>\n",
       "      <td>NaN</td>\n",
       "      <td>NaN</td>\n",
       "      <td>NaN</td>\n",
       "    </tr>\n",
       "    <tr>\n",
       "      <th>60</th>\n",
       "      <td>34088.029580</td>\n",
       "      <td>40388.989181</td>\n",
       "      <td>46689.948781</td>\n",
       "      <td>52990.908382</td>\n",
       "      <td>59291.867983</td>\n",
       "      <td>NaN</td>\n",
       "      <td>NaN</td>\n",
       "      <td>NaN</td>\n",
       "      <td>NaN</td>\n",
       "      <td>NaN</td>\n",
       "      <td>NaN</td>\n",
       "    </tr>\n",
       "    <tr>\n",
       "      <th>70</th>\n",
       "      <td>34824.336177</td>\n",
       "      <td>41125.295777</td>\n",
       "      <td>47426.255378</td>\n",
       "      <td>53727.214979</td>\n",
       "      <td>NaN</td>\n",
       "      <td>NaN</td>\n",
       "      <td>NaN</td>\n",
       "      <td>NaN</td>\n",
       "      <td>NaN</td>\n",
       "      <td>NaN</td>\n",
       "      <td>NaN</td>\n",
       "    </tr>\n",
       "    <tr>\n",
       "      <th>80</th>\n",
       "      <td>35560.642773</td>\n",
       "      <td>41861.602374</td>\n",
       "      <td>48162.561975</td>\n",
       "      <td>NaN</td>\n",
       "      <td>NaN</td>\n",
       "      <td>NaN</td>\n",
       "      <td>NaN</td>\n",
       "      <td>NaN</td>\n",
       "      <td>NaN</td>\n",
       "      <td>NaN</td>\n",
       "      <td>NaN</td>\n",
       "    </tr>\n",
       "    <tr>\n",
       "      <th>90</th>\n",
       "      <td>36296.949370</td>\n",
       "      <td>42597.908971</td>\n",
       "      <td>NaN</td>\n",
       "      <td>NaN</td>\n",
       "      <td>NaN</td>\n",
       "      <td>NaN</td>\n",
       "      <td>NaN</td>\n",
       "      <td>NaN</td>\n",
       "      <td>NaN</td>\n",
       "      <td>NaN</td>\n",
       "      <td>NaN</td>\n",
       "    </tr>\n",
       "    <tr>\n",
       "      <th>100</th>\n",
       "      <td>37033.255967</td>\n",
       "      <td>NaN</td>\n",
       "      <td>NaN</td>\n",
       "      <td>NaN</td>\n",
       "      <td>NaN</td>\n",
       "      <td>NaN</td>\n",
       "      <td>NaN</td>\n",
       "      <td>NaN</td>\n",
       "      <td>NaN</td>\n",
       "      <td>NaN</td>\n",
       "      <td>NaN</td>\n",
       "    </tr>\n",
       "  </tbody>\n",
       "</table>\n",
       "</div>"
      ],
      "text/plain": [
       "BTC           0             10            20            30            40   \\\n",
       "SP                                                                          \n",
       "0    29670.190000  35971.149601  42272.109201  48573.068802  54874.028403   \n",
       "10   30406.496597  36707.456197  43008.415798  49309.375399  55610.334999   \n",
       "20   31142.803193  37443.762794  43744.722395  50045.681995  56346.641596   \n",
       "30   31879.109790  38180.069391  44481.028991  50781.988592  57082.948193   \n",
       "40   32615.416387  38916.375987  45217.335588  51518.295189  57819.254789   \n",
       "50   33351.722983  39652.682584  45953.642185  52254.601785  58555.561386   \n",
       "60   34088.029580  40388.989181  46689.948781  52990.908382  59291.867983   \n",
       "70   34824.336177  41125.295777  47426.255378  53727.214979           NaN   \n",
       "80   35560.642773  41861.602374  48162.561975           NaN           NaN   \n",
       "90   36296.949370  42597.908971           NaN           NaN           NaN   \n",
       "100  37033.255967           NaN           NaN           NaN           NaN   \n",
       "\n",
       "BTC           50            60            70            80            90   \\\n",
       "SP                                                                          \n",
       "0    61174.988003  67475.947604  73776.907205  80077.866805  86378.826406   \n",
       "10   61911.294600  68212.254201  74513.213801  80814.173402  87115.133003   \n",
       "20   62647.601197  68948.560797  75249.520398  81550.479999           NaN   \n",
       "30   63383.907793  69684.867394  75985.826995           NaN           NaN   \n",
       "40   64120.214390  70421.173991           NaN           NaN           NaN   \n",
       "50   64856.520987           NaN           NaN           NaN           NaN   \n",
       "60            NaN           NaN           NaN           NaN           NaN   \n",
       "70            NaN           NaN           NaN           NaN           NaN   \n",
       "80            NaN           NaN           NaN           NaN           NaN   \n",
       "90            NaN           NaN           NaN           NaN           NaN   \n",
       "100           NaN           NaN           NaN           NaN           NaN   \n",
       "\n",
       "BTC           100  \n",
       "SP                 \n",
       "0    92679.786007  \n",
       "10            NaN  \n",
       "20            NaN  \n",
       "30            NaN  \n",
       "40            NaN  \n",
       "50            NaN  \n",
       "60            NaN  \n",
       "70            NaN  \n",
       "80            NaN  \n",
       "90            NaN  \n",
       "100           NaN  "
      ]
     },
     "execution_count": 45,
     "metadata": {},
     "output_type": "execute_result"
    }
   ],
   "source": [
    "matriz"
   ]
  },
  {
   "cell_type": "code",
   "execution_count": 46,
   "metadata": {},
   "outputs": [
    {
     "data": {
      "text/html": [
       "<style type=\"text/css\">\n",
       "#T_0c481_row0_col0 {\n",
       "  background-color: #440154;\n",
       "  color: #f1f1f1;\n",
       "}\n",
       "#T_0c481_row0_col1 {\n",
       "  background-color: #482475;\n",
       "  color: #f1f1f1;\n",
       "}\n",
       "#T_0c481_row0_col2 {\n",
       "  background-color: #414487;\n",
       "  color: #f1f1f1;\n",
       "}\n",
       "#T_0c481_row0_col3 {\n",
       "  background-color: #355f8d;\n",
       "  color: #f1f1f1;\n",
       "}\n",
       "#T_0c481_row0_col4 {\n",
       "  background-color: #2a788e;\n",
       "  color: #f1f1f1;\n",
       "}\n",
       "#T_0c481_row0_col5 {\n",
       "  background-color: #21918c;\n",
       "  color: #f1f1f1;\n",
       "}\n",
       "#T_0c481_row0_col6 {\n",
       "  background-color: #22a884;\n",
       "  color: #f1f1f1;\n",
       "}\n",
       "#T_0c481_row0_col7 {\n",
       "  background-color: #44bf70;\n",
       "  color: #f1f1f1;\n",
       "}\n",
       "#T_0c481_row0_col8 {\n",
       "  background-color: #7ad151;\n",
       "  color: #000000;\n",
       "}\n",
       "#T_0c481_row0_col9 {\n",
       "  background-color: #bddf26;\n",
       "  color: #000000;\n",
       "}\n",
       "#T_0c481_row0_col10 {\n",
       "  background-color: #fde725;\n",
       "  color: #000000;\n",
       "}\n",
       "#T_0c481_row1_col0 {\n",
       "  background-color: #450457;\n",
       "  color: #f1f1f1;\n",
       "}\n",
       "#T_0c481_row1_col1 {\n",
       "  background-color: #482878;\n",
       "  color: #f1f1f1;\n",
       "}\n",
       "#T_0c481_row1_col2 {\n",
       "  background-color: #3f4788;\n",
       "  color: #f1f1f1;\n",
       "}\n",
       "#T_0c481_row1_col3 {\n",
       "  background-color: #33628d;\n",
       "  color: #f1f1f1;\n",
       "}\n",
       "#T_0c481_row1_col4 {\n",
       "  background-color: #297b8e;\n",
       "  color: #f1f1f1;\n",
       "}\n",
       "#T_0c481_row1_col5 {\n",
       "  background-color: #20928c;\n",
       "  color: #f1f1f1;\n",
       "}\n",
       "#T_0c481_row1_col6 {\n",
       "  background-color: #25ab82;\n",
       "  color: #f1f1f1;\n",
       "}\n",
       "#T_0c481_row1_col7 {\n",
       "  background-color: #4ac16d;\n",
       "  color: #000000;\n",
       "}\n",
       "#T_0c481_row1_col8 {\n",
       "  background-color: #81d34d;\n",
       "  color: #000000;\n",
       "}\n",
       "#T_0c481_row1_col9 {\n",
       "  background-color: #c5e021;\n",
       "  color: #000000;\n",
       "}\n",
       "#T_0c481_row1_col10, #T_0c481_row2_col9, #T_0c481_row2_col10, #T_0c481_row3_col8, #T_0c481_row3_col9, #T_0c481_row3_col10, #T_0c481_row4_col7, #T_0c481_row4_col8, #T_0c481_row4_col9, #T_0c481_row4_col10, #T_0c481_row5_col6, #T_0c481_row5_col7, #T_0c481_row5_col8, #T_0c481_row5_col9, #T_0c481_row5_col10, #T_0c481_row6_col5, #T_0c481_row6_col6, #T_0c481_row6_col7, #T_0c481_row6_col8, #T_0c481_row6_col9, #T_0c481_row6_col10, #T_0c481_row7_col4, #T_0c481_row7_col5, #T_0c481_row7_col6, #T_0c481_row7_col7, #T_0c481_row7_col8, #T_0c481_row7_col9, #T_0c481_row7_col10, #T_0c481_row8_col3, #T_0c481_row8_col4, #T_0c481_row8_col5, #T_0c481_row8_col6, #T_0c481_row8_col7, #T_0c481_row8_col8, #T_0c481_row8_col9, #T_0c481_row8_col10, #T_0c481_row9_col2, #T_0c481_row9_col3, #T_0c481_row9_col4, #T_0c481_row9_col5, #T_0c481_row9_col6, #T_0c481_row9_col7, #T_0c481_row9_col8, #T_0c481_row9_col9, #T_0c481_row9_col10, #T_0c481_row10_col1, #T_0c481_row10_col2, #T_0c481_row10_col3, #T_0c481_row10_col4, #T_0c481_row10_col5, #T_0c481_row10_col6, #T_0c481_row10_col7, #T_0c481_row10_col8, #T_0c481_row10_col9, #T_0c481_row10_col10 {\n",
       "  background-color: #000000;\n",
       "  color: #f1f1f1;\n",
       "}\n",
       "#T_0c481_row2_col0 {\n",
       "  background-color: #46085c;\n",
       "  color: #f1f1f1;\n",
       "}\n",
       "#T_0c481_row2_col1 {\n",
       "  background-color: #472c7a;\n",
       "  color: #f1f1f1;\n",
       "}\n",
       "#T_0c481_row2_col2 {\n",
       "  background-color: #3e4a89;\n",
       "  color: #f1f1f1;\n",
       "}\n",
       "#T_0c481_row2_col3 {\n",
       "  background-color: #32658e;\n",
       "  color: #f1f1f1;\n",
       "}\n",
       "#T_0c481_row2_col4 {\n",
       "  background-color: #277e8e;\n",
       "  color: #f1f1f1;\n",
       "}\n",
       "#T_0c481_row2_col5 {\n",
       "  background-color: #1f958b;\n",
       "  color: #f1f1f1;\n",
       "}\n",
       "#T_0c481_row2_col6 {\n",
       "  background-color: #27ad81;\n",
       "  color: #f1f1f1;\n",
       "}\n",
       "#T_0c481_row2_col7 {\n",
       "  background-color: #50c46a;\n",
       "  color: #000000;\n",
       "}\n",
       "#T_0c481_row2_col8 {\n",
       "  background-color: #89d548;\n",
       "  color: #000000;\n",
       "}\n",
       "#T_0c481_row3_col0 {\n",
       "  background-color: #470d60;\n",
       "  color: #f1f1f1;\n",
       "}\n",
       "#T_0c481_row3_col1 {\n",
       "  background-color: #472f7d;\n",
       "  color: #f1f1f1;\n",
       "}\n",
       "#T_0c481_row3_col2 {\n",
       "  background-color: #3d4e8a;\n",
       "  color: #f1f1f1;\n",
       "}\n",
       "#T_0c481_row3_col3 {\n",
       "  background-color: #31688e;\n",
       "  color: #f1f1f1;\n",
       "}\n",
       "#T_0c481_row3_col4 {\n",
       "  background-color: #26818e;\n",
       "  color: #f1f1f1;\n",
       "}\n",
       "#T_0c481_row3_col5 {\n",
       "  background-color: #1f988b;\n",
       "  color: #f1f1f1;\n",
       "}\n",
       "#T_0c481_row3_col6 {\n",
       "  background-color: #2ab07f;\n",
       "  color: #f1f1f1;\n",
       "}\n",
       "#T_0c481_row3_col7 {\n",
       "  background-color: #56c667;\n",
       "  color: #000000;\n",
       "}\n",
       "#T_0c481_row4_col0 {\n",
       "  background-color: #471164;\n",
       "  color: #f1f1f1;\n",
       "}\n",
       "#T_0c481_row4_col1 {\n",
       "  background-color: #46337f;\n",
       "  color: #f1f1f1;\n",
       "}\n",
       "#T_0c481_row4_col2 {\n",
       "  background-color: #3b518b;\n",
       "  color: #f1f1f1;\n",
       "}\n",
       "#T_0c481_row4_col3 {\n",
       "  background-color: #2f6b8e;\n",
       "  color: #f1f1f1;\n",
       "}\n",
       "#T_0c481_row4_col4 {\n",
       "  background-color: #25838e;\n",
       "  color: #f1f1f1;\n",
       "}\n",
       "#T_0c481_row4_col5 {\n",
       "  background-color: #1e9b8a;\n",
       "  color: #f1f1f1;\n",
       "}\n",
       "#T_0c481_row4_col6 {\n",
       "  background-color: #2eb37c;\n",
       "  color: #f1f1f1;\n",
       "}\n",
       "#T_0c481_row5_col0 {\n",
       "  background-color: #481668;\n",
       "  color: #f1f1f1;\n",
       "}\n",
       "#T_0c481_row5_col1 {\n",
       "  background-color: #453781;\n",
       "  color: #f1f1f1;\n",
       "}\n",
       "#T_0c481_row5_col2 {\n",
       "  background-color: #3a548c;\n",
       "  color: #f1f1f1;\n",
       "}\n",
       "#T_0c481_row5_col3 {\n",
       "  background-color: #2e6e8e;\n",
       "  color: #f1f1f1;\n",
       "}\n",
       "#T_0c481_row5_col4 {\n",
       "  background-color: #24868e;\n",
       "  color: #f1f1f1;\n",
       "}\n",
       "#T_0c481_row5_col5 {\n",
       "  background-color: #1f9e89;\n",
       "  color: #f1f1f1;\n",
       "}\n",
       "#T_0c481_row6_col0 {\n",
       "  background-color: #481a6c;\n",
       "  color: #f1f1f1;\n",
       "}\n",
       "#T_0c481_row6_col1 {\n",
       "  background-color: #443a83;\n",
       "  color: #f1f1f1;\n",
       "}\n",
       "#T_0c481_row6_col2 {\n",
       "  background-color: #38588c;\n",
       "  color: #f1f1f1;\n",
       "}\n",
       "#T_0c481_row6_col3 {\n",
       "  background-color: #2d718e;\n",
       "  color: #f1f1f1;\n",
       "}\n",
       "#T_0c481_row6_col4 {\n",
       "  background-color: #23898e;\n",
       "  color: #f1f1f1;\n",
       "}\n",
       "#T_0c481_row7_col0 {\n",
       "  background-color: #481d6f;\n",
       "  color: #f1f1f1;\n",
       "}\n",
       "#T_0c481_row7_col1 {\n",
       "  background-color: #433e85;\n",
       "  color: #f1f1f1;\n",
       "}\n",
       "#T_0c481_row7_col2 {\n",
       "  background-color: #375b8d;\n",
       "  color: #f1f1f1;\n",
       "}\n",
       "#T_0c481_row7_col3 {\n",
       "  background-color: #2c738e;\n",
       "  color: #f1f1f1;\n",
       "}\n",
       "#T_0c481_row8_col0 {\n",
       "  background-color: #482173;\n",
       "  color: #f1f1f1;\n",
       "}\n",
       "#T_0c481_row8_col1 {\n",
       "  background-color: #424186;\n",
       "  color: #f1f1f1;\n",
       "}\n",
       "#T_0c481_row8_col2 {\n",
       "  background-color: #355e8d;\n",
       "  color: #f1f1f1;\n",
       "}\n",
       "#T_0c481_row9_col0 {\n",
       "  background-color: #482576;\n",
       "  color: #f1f1f1;\n",
       "}\n",
       "#T_0c481_row9_col1 {\n",
       "  background-color: #404588;\n",
       "  color: #f1f1f1;\n",
       "}\n",
       "#T_0c481_row10_col0 {\n",
       "  background-color: #482979;\n",
       "  color: #f1f1f1;\n",
       "}\n",
       "</style>\n",
       "<table id=\"T_0c481\">\n",
       "  <thead>\n",
       "    <tr>\n",
       "      <th class=\"index_name level0\" >BTC</th>\n",
       "      <th id=\"T_0c481_level0_col0\" class=\"col_heading level0 col0\" >0</th>\n",
       "      <th id=\"T_0c481_level0_col1\" class=\"col_heading level0 col1\" >10</th>\n",
       "      <th id=\"T_0c481_level0_col2\" class=\"col_heading level0 col2\" >20</th>\n",
       "      <th id=\"T_0c481_level0_col3\" class=\"col_heading level0 col3\" >30</th>\n",
       "      <th id=\"T_0c481_level0_col4\" class=\"col_heading level0 col4\" >40</th>\n",
       "      <th id=\"T_0c481_level0_col5\" class=\"col_heading level0 col5\" >50</th>\n",
       "      <th id=\"T_0c481_level0_col6\" class=\"col_heading level0 col6\" >60</th>\n",
       "      <th id=\"T_0c481_level0_col7\" class=\"col_heading level0 col7\" >70</th>\n",
       "      <th id=\"T_0c481_level0_col8\" class=\"col_heading level0 col8\" >80</th>\n",
       "      <th id=\"T_0c481_level0_col9\" class=\"col_heading level0 col9\" >90</th>\n",
       "      <th id=\"T_0c481_level0_col10\" class=\"col_heading level0 col10\" >100</th>\n",
       "    </tr>\n",
       "    <tr>\n",
       "      <th class=\"index_name level0\" >SP</th>\n",
       "      <th class=\"blank col0\" >&nbsp;</th>\n",
       "      <th class=\"blank col1\" >&nbsp;</th>\n",
       "      <th class=\"blank col2\" >&nbsp;</th>\n",
       "      <th class=\"blank col3\" >&nbsp;</th>\n",
       "      <th class=\"blank col4\" >&nbsp;</th>\n",
       "      <th class=\"blank col5\" >&nbsp;</th>\n",
       "      <th class=\"blank col6\" >&nbsp;</th>\n",
       "      <th class=\"blank col7\" >&nbsp;</th>\n",
       "      <th class=\"blank col8\" >&nbsp;</th>\n",
       "      <th class=\"blank col9\" >&nbsp;</th>\n",
       "      <th class=\"blank col10\" >&nbsp;</th>\n",
       "    </tr>\n",
       "  </thead>\n",
       "  <tbody>\n",
       "    <tr>\n",
       "      <th id=\"T_0c481_level0_row0\" class=\"row_heading level0 row0\" >0</th>\n",
       "      <td id=\"T_0c481_row0_col0\" class=\"data row0 col0\" >29670.190000</td>\n",
       "      <td id=\"T_0c481_row0_col1\" class=\"data row0 col1\" >35971.149601</td>\n",
       "      <td id=\"T_0c481_row0_col2\" class=\"data row0 col2\" >42272.109201</td>\n",
       "      <td id=\"T_0c481_row0_col3\" class=\"data row0 col3\" >48573.068802</td>\n",
       "      <td id=\"T_0c481_row0_col4\" class=\"data row0 col4\" >54874.028403</td>\n",
       "      <td id=\"T_0c481_row0_col5\" class=\"data row0 col5\" >61174.988003</td>\n",
       "      <td id=\"T_0c481_row0_col6\" class=\"data row0 col6\" >67475.947604</td>\n",
       "      <td id=\"T_0c481_row0_col7\" class=\"data row0 col7\" >73776.907205</td>\n",
       "      <td id=\"T_0c481_row0_col8\" class=\"data row0 col8\" >80077.866805</td>\n",
       "      <td id=\"T_0c481_row0_col9\" class=\"data row0 col9\" >86378.826406</td>\n",
       "      <td id=\"T_0c481_row0_col10\" class=\"data row0 col10\" >92679.786007</td>\n",
       "    </tr>\n",
       "    <tr>\n",
       "      <th id=\"T_0c481_level0_row1\" class=\"row_heading level0 row1\" >10</th>\n",
       "      <td id=\"T_0c481_row1_col0\" class=\"data row1 col0\" >30406.496597</td>\n",
       "      <td id=\"T_0c481_row1_col1\" class=\"data row1 col1\" >36707.456197</td>\n",
       "      <td id=\"T_0c481_row1_col2\" class=\"data row1 col2\" >43008.415798</td>\n",
       "      <td id=\"T_0c481_row1_col3\" class=\"data row1 col3\" >49309.375399</td>\n",
       "      <td id=\"T_0c481_row1_col4\" class=\"data row1 col4\" >55610.334999</td>\n",
       "      <td id=\"T_0c481_row1_col5\" class=\"data row1 col5\" >61911.294600</td>\n",
       "      <td id=\"T_0c481_row1_col6\" class=\"data row1 col6\" >68212.254201</td>\n",
       "      <td id=\"T_0c481_row1_col7\" class=\"data row1 col7\" >74513.213801</td>\n",
       "      <td id=\"T_0c481_row1_col8\" class=\"data row1 col8\" >80814.173402</td>\n",
       "      <td id=\"T_0c481_row1_col9\" class=\"data row1 col9\" >87115.133003</td>\n",
       "      <td id=\"T_0c481_row1_col10\" class=\"data row1 col10\" ></td>\n",
       "    </tr>\n",
       "    <tr>\n",
       "      <th id=\"T_0c481_level0_row2\" class=\"row_heading level0 row2\" >20</th>\n",
       "      <td id=\"T_0c481_row2_col0\" class=\"data row2 col0\" >31142.803193</td>\n",
       "      <td id=\"T_0c481_row2_col1\" class=\"data row2 col1\" >37443.762794</td>\n",
       "      <td id=\"T_0c481_row2_col2\" class=\"data row2 col2\" >43744.722395</td>\n",
       "      <td id=\"T_0c481_row2_col3\" class=\"data row2 col3\" >50045.681995</td>\n",
       "      <td id=\"T_0c481_row2_col4\" class=\"data row2 col4\" >56346.641596</td>\n",
       "      <td id=\"T_0c481_row2_col5\" class=\"data row2 col5\" >62647.601197</td>\n",
       "      <td id=\"T_0c481_row2_col6\" class=\"data row2 col6\" >68948.560797</td>\n",
       "      <td id=\"T_0c481_row2_col7\" class=\"data row2 col7\" >75249.520398</td>\n",
       "      <td id=\"T_0c481_row2_col8\" class=\"data row2 col8\" >81550.479999</td>\n",
       "      <td id=\"T_0c481_row2_col9\" class=\"data row2 col9\" ></td>\n",
       "      <td id=\"T_0c481_row2_col10\" class=\"data row2 col10\" ></td>\n",
       "    </tr>\n",
       "    <tr>\n",
       "      <th id=\"T_0c481_level0_row3\" class=\"row_heading level0 row3\" >30</th>\n",
       "      <td id=\"T_0c481_row3_col0\" class=\"data row3 col0\" >31879.109790</td>\n",
       "      <td id=\"T_0c481_row3_col1\" class=\"data row3 col1\" >38180.069391</td>\n",
       "      <td id=\"T_0c481_row3_col2\" class=\"data row3 col2\" >44481.028991</td>\n",
       "      <td id=\"T_0c481_row3_col3\" class=\"data row3 col3\" >50781.988592</td>\n",
       "      <td id=\"T_0c481_row3_col4\" class=\"data row3 col4\" >57082.948193</td>\n",
       "      <td id=\"T_0c481_row3_col5\" class=\"data row3 col5\" >63383.907793</td>\n",
       "      <td id=\"T_0c481_row3_col6\" class=\"data row3 col6\" >69684.867394</td>\n",
       "      <td id=\"T_0c481_row3_col7\" class=\"data row3 col7\" >75985.826995</td>\n",
       "      <td id=\"T_0c481_row3_col8\" class=\"data row3 col8\" ></td>\n",
       "      <td id=\"T_0c481_row3_col9\" class=\"data row3 col9\" ></td>\n",
       "      <td id=\"T_0c481_row3_col10\" class=\"data row3 col10\" ></td>\n",
       "    </tr>\n",
       "    <tr>\n",
       "      <th id=\"T_0c481_level0_row4\" class=\"row_heading level0 row4\" >40</th>\n",
       "      <td id=\"T_0c481_row4_col0\" class=\"data row4 col0\" >32615.416387</td>\n",
       "      <td id=\"T_0c481_row4_col1\" class=\"data row4 col1\" >38916.375987</td>\n",
       "      <td id=\"T_0c481_row4_col2\" class=\"data row4 col2\" >45217.335588</td>\n",
       "      <td id=\"T_0c481_row4_col3\" class=\"data row4 col3\" >51518.295189</td>\n",
       "      <td id=\"T_0c481_row4_col4\" class=\"data row4 col4\" >57819.254789</td>\n",
       "      <td id=\"T_0c481_row4_col5\" class=\"data row4 col5\" >64120.214390</td>\n",
       "      <td id=\"T_0c481_row4_col6\" class=\"data row4 col6\" >70421.173991</td>\n",
       "      <td id=\"T_0c481_row4_col7\" class=\"data row4 col7\" ></td>\n",
       "      <td id=\"T_0c481_row4_col8\" class=\"data row4 col8\" ></td>\n",
       "      <td id=\"T_0c481_row4_col9\" class=\"data row4 col9\" ></td>\n",
       "      <td id=\"T_0c481_row4_col10\" class=\"data row4 col10\" ></td>\n",
       "    </tr>\n",
       "    <tr>\n",
       "      <th id=\"T_0c481_level0_row5\" class=\"row_heading level0 row5\" >50</th>\n",
       "      <td id=\"T_0c481_row5_col0\" class=\"data row5 col0\" >33351.722983</td>\n",
       "      <td id=\"T_0c481_row5_col1\" class=\"data row5 col1\" >39652.682584</td>\n",
       "      <td id=\"T_0c481_row5_col2\" class=\"data row5 col2\" >45953.642185</td>\n",
       "      <td id=\"T_0c481_row5_col3\" class=\"data row5 col3\" >52254.601785</td>\n",
       "      <td id=\"T_0c481_row5_col4\" class=\"data row5 col4\" >58555.561386</td>\n",
       "      <td id=\"T_0c481_row5_col5\" class=\"data row5 col5\" >64856.520987</td>\n",
       "      <td id=\"T_0c481_row5_col6\" class=\"data row5 col6\" ></td>\n",
       "      <td id=\"T_0c481_row5_col7\" class=\"data row5 col7\" ></td>\n",
       "      <td id=\"T_0c481_row5_col8\" class=\"data row5 col8\" ></td>\n",
       "      <td id=\"T_0c481_row5_col9\" class=\"data row5 col9\" ></td>\n",
       "      <td id=\"T_0c481_row5_col10\" class=\"data row5 col10\" ></td>\n",
       "    </tr>\n",
       "    <tr>\n",
       "      <th id=\"T_0c481_level0_row6\" class=\"row_heading level0 row6\" >60</th>\n",
       "      <td id=\"T_0c481_row6_col0\" class=\"data row6 col0\" >34088.029580</td>\n",
       "      <td id=\"T_0c481_row6_col1\" class=\"data row6 col1\" >40388.989181</td>\n",
       "      <td id=\"T_0c481_row6_col2\" class=\"data row6 col2\" >46689.948781</td>\n",
       "      <td id=\"T_0c481_row6_col3\" class=\"data row6 col3\" >52990.908382</td>\n",
       "      <td id=\"T_0c481_row6_col4\" class=\"data row6 col4\" >59291.867983</td>\n",
       "      <td id=\"T_0c481_row6_col5\" class=\"data row6 col5\" ></td>\n",
       "      <td id=\"T_0c481_row6_col6\" class=\"data row6 col6\" ></td>\n",
       "      <td id=\"T_0c481_row6_col7\" class=\"data row6 col7\" ></td>\n",
       "      <td id=\"T_0c481_row6_col8\" class=\"data row6 col8\" ></td>\n",
       "      <td id=\"T_0c481_row6_col9\" class=\"data row6 col9\" ></td>\n",
       "      <td id=\"T_0c481_row6_col10\" class=\"data row6 col10\" ></td>\n",
       "    </tr>\n",
       "    <tr>\n",
       "      <th id=\"T_0c481_level0_row7\" class=\"row_heading level0 row7\" >70</th>\n",
       "      <td id=\"T_0c481_row7_col0\" class=\"data row7 col0\" >34824.336177</td>\n",
       "      <td id=\"T_0c481_row7_col1\" class=\"data row7 col1\" >41125.295777</td>\n",
       "      <td id=\"T_0c481_row7_col2\" class=\"data row7 col2\" >47426.255378</td>\n",
       "      <td id=\"T_0c481_row7_col3\" class=\"data row7 col3\" >53727.214979</td>\n",
       "      <td id=\"T_0c481_row7_col4\" class=\"data row7 col4\" ></td>\n",
       "      <td id=\"T_0c481_row7_col5\" class=\"data row7 col5\" ></td>\n",
       "      <td id=\"T_0c481_row7_col6\" class=\"data row7 col6\" ></td>\n",
       "      <td id=\"T_0c481_row7_col7\" class=\"data row7 col7\" ></td>\n",
       "      <td id=\"T_0c481_row7_col8\" class=\"data row7 col8\" ></td>\n",
       "      <td id=\"T_0c481_row7_col9\" class=\"data row7 col9\" ></td>\n",
       "      <td id=\"T_0c481_row7_col10\" class=\"data row7 col10\" ></td>\n",
       "    </tr>\n",
       "    <tr>\n",
       "      <th id=\"T_0c481_level0_row8\" class=\"row_heading level0 row8\" >80</th>\n",
       "      <td id=\"T_0c481_row8_col0\" class=\"data row8 col0\" >35560.642773</td>\n",
       "      <td id=\"T_0c481_row8_col1\" class=\"data row8 col1\" >41861.602374</td>\n",
       "      <td id=\"T_0c481_row8_col2\" class=\"data row8 col2\" >48162.561975</td>\n",
       "      <td id=\"T_0c481_row8_col3\" class=\"data row8 col3\" ></td>\n",
       "      <td id=\"T_0c481_row8_col4\" class=\"data row8 col4\" ></td>\n",
       "      <td id=\"T_0c481_row8_col5\" class=\"data row8 col5\" ></td>\n",
       "      <td id=\"T_0c481_row8_col6\" class=\"data row8 col6\" ></td>\n",
       "      <td id=\"T_0c481_row8_col7\" class=\"data row8 col7\" ></td>\n",
       "      <td id=\"T_0c481_row8_col8\" class=\"data row8 col8\" ></td>\n",
       "      <td id=\"T_0c481_row8_col9\" class=\"data row8 col9\" ></td>\n",
       "      <td id=\"T_0c481_row8_col10\" class=\"data row8 col10\" ></td>\n",
       "    </tr>\n",
       "    <tr>\n",
       "      <th id=\"T_0c481_level0_row9\" class=\"row_heading level0 row9\" >90</th>\n",
       "      <td id=\"T_0c481_row9_col0\" class=\"data row9 col0\" >36296.949370</td>\n",
       "      <td id=\"T_0c481_row9_col1\" class=\"data row9 col1\" >42597.908971</td>\n",
       "      <td id=\"T_0c481_row9_col2\" class=\"data row9 col2\" ></td>\n",
       "      <td id=\"T_0c481_row9_col3\" class=\"data row9 col3\" ></td>\n",
       "      <td id=\"T_0c481_row9_col4\" class=\"data row9 col4\" ></td>\n",
       "      <td id=\"T_0c481_row9_col5\" class=\"data row9 col5\" ></td>\n",
       "      <td id=\"T_0c481_row9_col6\" class=\"data row9 col6\" ></td>\n",
       "      <td id=\"T_0c481_row9_col7\" class=\"data row9 col7\" ></td>\n",
       "      <td id=\"T_0c481_row9_col8\" class=\"data row9 col8\" ></td>\n",
       "      <td id=\"T_0c481_row9_col9\" class=\"data row9 col9\" ></td>\n",
       "      <td id=\"T_0c481_row9_col10\" class=\"data row9 col10\" ></td>\n",
       "    </tr>\n",
       "    <tr>\n",
       "      <th id=\"T_0c481_level0_row10\" class=\"row_heading level0 row10\" >100</th>\n",
       "      <td id=\"T_0c481_row10_col0\" class=\"data row10 col0\" >37033.255967</td>\n",
       "      <td id=\"T_0c481_row10_col1\" class=\"data row10 col1\" ></td>\n",
       "      <td id=\"T_0c481_row10_col2\" class=\"data row10 col2\" ></td>\n",
       "      <td id=\"T_0c481_row10_col3\" class=\"data row10 col3\" ></td>\n",
       "      <td id=\"T_0c481_row10_col4\" class=\"data row10 col4\" ></td>\n",
       "      <td id=\"T_0c481_row10_col5\" class=\"data row10 col5\" ></td>\n",
       "      <td id=\"T_0c481_row10_col6\" class=\"data row10 col6\" ></td>\n",
       "      <td id=\"T_0c481_row10_col7\" class=\"data row10 col7\" ></td>\n",
       "      <td id=\"T_0c481_row10_col8\" class=\"data row10 col8\" ></td>\n",
       "      <td id=\"T_0c481_row10_col9\" class=\"data row10 col9\" ></td>\n",
       "      <td id=\"T_0c481_row10_col10\" class=\"data row10 col10\" ></td>\n",
       "    </tr>\n",
       "  </tbody>\n",
       "</table>\n"
      ],
      "text/plain": [
       "<pandas.io.formats.style.Styler at 0x1f2dad73380>"
      ]
     },
     "execution_count": 46,
     "metadata": {},
     "output_type": "execute_result"
    }
   ],
   "source": [
    "styled_matriz = (\n",
    "    matriz.style\n",
    "    .background_gradient(cmap='viridis', axis=None)  # Se asegura de aplicar el gradiente a todo el DataFrame\n",
    "    .format(na_rep='')  # Oculta los valores NaN\n",
    ")\n",
    "\n",
    "# Mostrar matriz estilizada\n",
    "styled_matriz\n"
   ]
  },
  {
   "cell_type": "markdown",
   "metadata": {},
   "source": [
    "### HeatMap con la matriz para visualizar la evolucion de la inversion segun las opciones"
   ]
  },
  {
   "cell_type": "code",
   "execution_count": 59,
   "metadata": {},
   "outputs": [
    {
     "data": {
      "application/vnd.plotly.v1+json": {
       "config": {
        "plotlyServerURL": "https://plot.ly"
       },
       "data": [
        {
         "coloraxis": "coloraxis",
         "hovertemplate": "BTC: %{x}<br>SP: %{y}<br>color: %{z}<extra></extra>",
         "name": "0",
         "texttemplate": "%{z:.2f}",
         "type": "heatmap",
         "x": [
          0,
          10,
          20,
          30,
          40,
          50,
          60,
          70,
          80,
          90,
          100
         ],
         "xaxis": "x",
         "y": [
          0,
          10,
          20,
          30,
          40,
          50,
          60,
          70,
          80,
          90,
          100
         ],
         "yaxis": "y",
         "z": [
          [
           29670.190000000002,
           35971.14960065224,
           42272.10920130448,
           48573.06880195673,
           54874.028402608965,
           61174.98800326121,
           67475.94760391346,
           73776.90720456568,
           80077.86680521793,
           86378.82640587022,
           92679.78600652242
          ],
          [
           30406.49659668647,
           36707.45619733871,
           43008.41579799095,
           49309.3753986432,
           55610.33499929543,
           61911.29459994768,
           68212.25420059991,
           74513.21380125215,
           80814.1734019044,
           87115.13300255669,
           null
          ],
          [
           31142.803193372936,
           37443.76279402518,
           43744.72239467742,
           50045.681995329665,
           56346.6415959819,
           62647.60119663415,
           68948.5607972864,
           75249.52039793861,
           81550.47999859086,
           null,
           null
          ],
          [
           31879.109790059403,
           38180.069390711644,
           44481.028991363884,
           50781.98859201613,
           57082.948192668366,
           63383.90779332061,
           69684.86739397285,
           75985.82699462508,
           null,
           null,
           null
          ],
          [
           32615.41638674587,
           38916.37598739811,
           45217.33558805035,
           51518.2951887026,
           57819.25478935483,
           64120.21439000708,
           70421.17399065931,
           null,
           null,
           null,
           null
          ],
          [
           33351.72298343234,
           39652.682584084585,
           45953.64218473682,
           52254.601785389066,
           58555.5613860413,
           64856.52098669355,
           null,
           null,
           null,
           null,
           null
          ],
          [
           34088.029580118804,
           40388.98918077104,
           46689.948781423285,
           52990.908382075526,
           59291.86798272777,
           null,
           null,
           null,
           null,
           null,
           null
          ],
          [
           34824.33617680526,
           41125.295777457504,
           47426.25537810974,
           53727.214978761986,
           null,
           null,
           null,
           null,
           null,
           null,
           null
          ],
          [
           35560.64277349174,
           41861.60237414397,
           48162.56197479622,
           null,
           null,
           null,
           null,
           null,
           null,
           null,
           null
          ],
          [
           36296.94937017821,
           42597.90897083045,
           null,
           null,
           null,
           null,
           null,
           null,
           null,
           null,
           null
          ],
          [
           37033.25596686468,
           null,
           null,
           null,
           null,
           null,
           null,
           null,
           null,
           null,
           null
          ]
         ]
        }
       ],
       "layout": {
        "coloraxis": {
         "colorscale": [
          [
           0,
           "#440154"
          ],
          [
           0.1111111111111111,
           "#482878"
          ],
          [
           0.2222222222222222,
           "#3e4989"
          ],
          [
           0.3333333333333333,
           "#31688e"
          ],
          [
           0.4444444444444444,
           "#26828e"
          ],
          [
           0.5555555555555556,
           "#1f9e89"
          ],
          [
           0.6666666666666666,
           "#35b779"
          ],
          [
           0.7777777777777778,
           "#6ece58"
          ],
          [
           0.8888888888888888,
           "#b5de2b"
          ],
          [
           1,
           "#fde725"
          ]
         ]
        },
        "height": 600,
        "margin": {
         "b": 10,
         "l": 10,
         "r": 10,
         "t": 50
        },
        "template": {
         "data": {
          "bar": [
           {
            "error_x": {
             "color": "rgb(51,51,51)"
            },
            "error_y": {
             "color": "rgb(51,51,51)"
            },
            "marker": {
             "line": {
              "color": "rgb(237,237,237)",
              "width": 0.5
             },
             "pattern": {
              "fillmode": "overlay",
              "size": 10,
              "solidity": 0.2
             }
            },
            "type": "bar"
           }
          ],
          "barpolar": [
           {
            "marker": {
             "line": {
              "color": "rgb(237,237,237)",
              "width": 0.5
             },
             "pattern": {
              "fillmode": "overlay",
              "size": 10,
              "solidity": 0.2
             }
            },
            "type": "barpolar"
           }
          ],
          "carpet": [
           {
            "aaxis": {
             "endlinecolor": "rgb(51,51,51)",
             "gridcolor": "white",
             "linecolor": "white",
             "minorgridcolor": "white",
             "startlinecolor": "rgb(51,51,51)"
            },
            "baxis": {
             "endlinecolor": "rgb(51,51,51)",
             "gridcolor": "white",
             "linecolor": "white",
             "minorgridcolor": "white",
             "startlinecolor": "rgb(51,51,51)"
            },
            "type": "carpet"
           }
          ],
          "choropleth": [
           {
            "colorbar": {
             "outlinewidth": 0,
             "tickcolor": "rgb(237,237,237)",
             "ticklen": 6,
             "ticks": "inside"
            },
            "type": "choropleth"
           }
          ],
          "contour": [
           {
            "colorbar": {
             "outlinewidth": 0,
             "tickcolor": "rgb(237,237,237)",
             "ticklen": 6,
             "ticks": "inside"
            },
            "colorscale": [
             [
              0,
              "rgb(20,44,66)"
             ],
             [
              1,
              "rgb(90,179,244)"
             ]
            ],
            "type": "contour"
           }
          ],
          "contourcarpet": [
           {
            "colorbar": {
             "outlinewidth": 0,
             "tickcolor": "rgb(237,237,237)",
             "ticklen": 6,
             "ticks": "inside"
            },
            "type": "contourcarpet"
           }
          ],
          "heatmap": [
           {
            "colorbar": {
             "outlinewidth": 0,
             "tickcolor": "rgb(237,237,237)",
             "ticklen": 6,
             "ticks": "inside"
            },
            "colorscale": [
             [
              0,
              "rgb(20,44,66)"
             ],
             [
              1,
              "rgb(90,179,244)"
             ]
            ],
            "type": "heatmap"
           }
          ],
          "heatmapgl": [
           {
            "colorbar": {
             "outlinewidth": 0,
             "tickcolor": "rgb(237,237,237)",
             "ticklen": 6,
             "ticks": "inside"
            },
            "colorscale": [
             [
              0,
              "rgb(20,44,66)"
             ],
             [
              1,
              "rgb(90,179,244)"
             ]
            ],
            "type": "heatmapgl"
           }
          ],
          "histogram": [
           {
            "marker": {
             "pattern": {
              "fillmode": "overlay",
              "size": 10,
              "solidity": 0.2
             }
            },
            "type": "histogram"
           }
          ],
          "histogram2d": [
           {
            "colorbar": {
             "outlinewidth": 0,
             "tickcolor": "rgb(237,237,237)",
             "ticklen": 6,
             "ticks": "inside"
            },
            "colorscale": [
             [
              0,
              "rgb(20,44,66)"
             ],
             [
              1,
              "rgb(90,179,244)"
             ]
            ],
            "type": "histogram2d"
           }
          ],
          "histogram2dcontour": [
           {
            "colorbar": {
             "outlinewidth": 0,
             "tickcolor": "rgb(237,237,237)",
             "ticklen": 6,
             "ticks": "inside"
            },
            "colorscale": [
             [
              0,
              "rgb(20,44,66)"
             ],
             [
              1,
              "rgb(90,179,244)"
             ]
            ],
            "type": "histogram2dcontour"
           }
          ],
          "mesh3d": [
           {
            "colorbar": {
             "outlinewidth": 0,
             "tickcolor": "rgb(237,237,237)",
             "ticklen": 6,
             "ticks": "inside"
            },
            "type": "mesh3d"
           }
          ],
          "parcoords": [
           {
            "line": {
             "colorbar": {
              "outlinewidth": 0,
              "tickcolor": "rgb(237,237,237)",
              "ticklen": 6,
              "ticks": "inside"
             }
            },
            "type": "parcoords"
           }
          ],
          "pie": [
           {
            "automargin": true,
            "type": "pie"
           }
          ],
          "scatter": [
           {
            "fillpattern": {
             "fillmode": "overlay",
             "size": 10,
             "solidity": 0.2
            },
            "type": "scatter"
           }
          ],
          "scatter3d": [
           {
            "line": {
             "colorbar": {
              "outlinewidth": 0,
              "tickcolor": "rgb(237,237,237)",
              "ticklen": 6,
              "ticks": "inside"
             }
            },
            "marker": {
             "colorbar": {
              "outlinewidth": 0,
              "tickcolor": "rgb(237,237,237)",
              "ticklen": 6,
              "ticks": "inside"
             }
            },
            "type": "scatter3d"
           }
          ],
          "scattercarpet": [
           {
            "marker": {
             "colorbar": {
              "outlinewidth": 0,
              "tickcolor": "rgb(237,237,237)",
              "ticklen": 6,
              "ticks": "inside"
             }
            },
            "type": "scattercarpet"
           }
          ],
          "scattergeo": [
           {
            "marker": {
             "colorbar": {
              "outlinewidth": 0,
              "tickcolor": "rgb(237,237,237)",
              "ticklen": 6,
              "ticks": "inside"
             }
            },
            "type": "scattergeo"
           }
          ],
          "scattergl": [
           {
            "marker": {
             "colorbar": {
              "outlinewidth": 0,
              "tickcolor": "rgb(237,237,237)",
              "ticklen": 6,
              "ticks": "inside"
             }
            },
            "type": "scattergl"
           }
          ],
          "scattermapbox": [
           {
            "marker": {
             "colorbar": {
              "outlinewidth": 0,
              "tickcolor": "rgb(237,237,237)",
              "ticklen": 6,
              "ticks": "inside"
             }
            },
            "type": "scattermapbox"
           }
          ],
          "scatterpolar": [
           {
            "marker": {
             "colorbar": {
              "outlinewidth": 0,
              "tickcolor": "rgb(237,237,237)",
              "ticklen": 6,
              "ticks": "inside"
             }
            },
            "type": "scatterpolar"
           }
          ],
          "scatterpolargl": [
           {
            "marker": {
             "colorbar": {
              "outlinewidth": 0,
              "tickcolor": "rgb(237,237,237)",
              "ticklen": 6,
              "ticks": "inside"
             }
            },
            "type": "scatterpolargl"
           }
          ],
          "scatterternary": [
           {
            "marker": {
             "colorbar": {
              "outlinewidth": 0,
              "tickcolor": "rgb(237,237,237)",
              "ticklen": 6,
              "ticks": "inside"
             }
            },
            "type": "scatterternary"
           }
          ],
          "surface": [
           {
            "colorbar": {
             "outlinewidth": 0,
             "tickcolor": "rgb(237,237,237)",
             "ticklen": 6,
             "ticks": "inside"
            },
            "colorscale": [
             [
              0,
              "rgb(20,44,66)"
             ],
             [
              1,
              "rgb(90,179,244)"
             ]
            ],
            "type": "surface"
           }
          ],
          "table": [
           {
            "cells": {
             "fill": {
              "color": "rgb(237,237,237)"
             },
             "line": {
              "color": "white"
             }
            },
            "header": {
             "fill": {
              "color": "rgb(217,217,217)"
             },
             "line": {
              "color": "white"
             }
            },
            "type": "table"
           }
          ]
         },
         "layout": {
          "annotationdefaults": {
           "arrowhead": 0,
           "arrowwidth": 1
          },
          "autotypenumbers": "strict",
          "coloraxis": {
           "colorbar": {
            "outlinewidth": 0,
            "tickcolor": "rgb(237,237,237)",
            "ticklen": 6,
            "ticks": "inside"
           }
          },
          "colorscale": {
           "sequential": [
            [
             0,
             "rgb(20,44,66)"
            ],
            [
             1,
             "rgb(90,179,244)"
            ]
           ],
           "sequentialminus": [
            [
             0,
             "rgb(20,44,66)"
            ],
            [
             1,
             "rgb(90,179,244)"
            ]
           ]
          },
          "colorway": [
           "#F8766D",
           "#A3A500",
           "#00BF7D",
           "#00B0F6",
           "#E76BF3"
          ],
          "font": {
           "color": "rgb(51,51,51)"
          },
          "geo": {
           "bgcolor": "white",
           "lakecolor": "white",
           "landcolor": "rgb(237,237,237)",
           "showlakes": true,
           "showland": true,
           "subunitcolor": "white"
          },
          "hoverlabel": {
           "align": "left"
          },
          "hovermode": "closest",
          "paper_bgcolor": "white",
          "plot_bgcolor": "rgb(237,237,237)",
          "polar": {
           "angularaxis": {
            "gridcolor": "white",
            "linecolor": "white",
            "showgrid": true,
            "tickcolor": "rgb(51,51,51)",
            "ticks": "outside"
           },
           "bgcolor": "rgb(237,237,237)",
           "radialaxis": {
            "gridcolor": "white",
            "linecolor": "white",
            "showgrid": true,
            "tickcolor": "rgb(51,51,51)",
            "ticks": "outside"
           }
          },
          "scene": {
           "xaxis": {
            "backgroundcolor": "rgb(237,237,237)",
            "gridcolor": "white",
            "gridwidth": 2,
            "linecolor": "white",
            "showbackground": true,
            "showgrid": true,
            "tickcolor": "rgb(51,51,51)",
            "ticks": "outside",
            "zerolinecolor": "white"
           },
           "yaxis": {
            "backgroundcolor": "rgb(237,237,237)",
            "gridcolor": "white",
            "gridwidth": 2,
            "linecolor": "white",
            "showbackground": true,
            "showgrid": true,
            "tickcolor": "rgb(51,51,51)",
            "ticks": "outside",
            "zerolinecolor": "white"
           },
           "zaxis": {
            "backgroundcolor": "rgb(237,237,237)",
            "gridcolor": "white",
            "gridwidth": 2,
            "linecolor": "white",
            "showbackground": true,
            "showgrid": true,
            "tickcolor": "rgb(51,51,51)",
            "ticks": "outside",
            "zerolinecolor": "white"
           }
          },
          "shapedefaults": {
           "fillcolor": "black",
           "line": {
            "width": 0
           },
           "opacity": 0.3
          },
          "ternary": {
           "aaxis": {
            "gridcolor": "white",
            "linecolor": "white",
            "showgrid": true,
            "tickcolor": "rgb(51,51,51)",
            "ticks": "outside"
           },
           "baxis": {
            "gridcolor": "white",
            "linecolor": "white",
            "showgrid": true,
            "tickcolor": "rgb(51,51,51)",
            "ticks": "outside"
           },
           "bgcolor": "rgb(237,237,237)",
           "caxis": {
            "gridcolor": "white",
            "linecolor": "white",
            "showgrid": true,
            "tickcolor": "rgb(51,51,51)",
            "ticks": "outside"
           }
          },
          "xaxis": {
           "automargin": true,
           "gridcolor": "white",
           "linecolor": "white",
           "showgrid": true,
           "tickcolor": "rgb(51,51,51)",
           "ticks": "outside",
           "title": {
            "standoff": 15
           },
           "zerolinecolor": "white"
          },
          "yaxis": {
           "automargin": true,
           "gridcolor": "white",
           "linecolor": "white",
           "showgrid": true,
           "tickcolor": "rgb(51,51,51)",
           "ticks": "outside",
           "title": {
            "standoff": 15
           },
           "zerolinecolor": "white"
          }
         }
        },
        "title": {
         "text": "Distribucion de Inversion S&P500 vs Bitcoin"
        },
        "width": 800,
        "xaxis": {
         "anchor": "y",
         "constrain": "domain",
         "domain": [
          0,
          1
         ],
         "scaleanchor": "y",
         "title": {
          "text": "Bitcoin"
         }
        },
        "yaxis": {
         "anchor": "x",
         "autorange": "reversed",
         "constrain": "domain",
         "domain": [
          0,
          1
         ],
         "title": {
          "text": "S&P500"
         }
        }
       }
      }
     },
     "metadata": {},
     "output_type": "display_data"
    }
   ],
   "source": [
    "fig = px.imshow(\n",
    "    matriz, \n",
    "    #text_auto=True, \n",
    "    text_auto=\".2f\",\n",
    "    color_continuous_scale=\"Viridis\" \n",
    ")\n",
    "\n",
    "fig.update_layout(\n",
    "    title=\"Distribucion de Inversion S&P500 vs Bitcoin\",  \n",
    "    xaxis_title=\"Bitcoin\",  \n",
    "    yaxis_title=\"S&P500\",  \n",
    "    template=\"ggplot2\", \n",
    "    width=800,  \n",
    "    height=600,  \n",
    "    margin=dict(\n",
    "        l=10,  # izquierdo\n",
    "        r=10,  # derecho\n",
    "        t=50,  # superior\n",
    "        b=10   #  inferior\n",
    "    )\n",
    ")\n",
    "\n",
    "fig.show()\n"
   ]
  }
 ],
 "metadata": {
  "kernelspec": {
   "display_name": "base",
   "language": "python",
   "name": "python3"
  },
  "language_info": {
   "codemirror_mode": {
    "name": "ipython",
    "version": 3
   },
   "file_extension": ".py",
   "mimetype": "text/x-python",
   "name": "python",
   "nbconvert_exporter": "python",
   "pygments_lexer": "ipython3",
   "version": "3.12.7"
  }
 },
 "nbformat": 4,
 "nbformat_minor": 2
}
